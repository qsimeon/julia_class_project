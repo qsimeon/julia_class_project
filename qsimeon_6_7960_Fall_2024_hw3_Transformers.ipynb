{
  "cells": [
    {
      "cell_type": "code",
      "execution_count": null,
      "metadata": {
        "id": "47cd59de"
      },
      "outputs": [],
      "source": [
        "import torch\n",
        "import torch.nn as nn\n",
        "import torch.nn.functional as F\n",
        "from typing import Tuple, Union, Optional, List\n",
        "import torchvision\n",
        "import torchvision.transforms as transforms\n",
        "import matplotlib.pyplot as plt\n",
        "import numpy as np\n",
        "\n",
        "import einops"
      ],
      "id": "47cd59de"
    },
    {
      "cell_type": "markdown",
      "source": [
        "# Problem 1\n",
        "\n",
        "### (a)\n",
        "We are given the recurrence relation:\n",
        "\n",
        "$$\n",
        "h_t=W_h h_{t-1}+W_x x_t\n",
        "$$\n",
        "\n",
        "with the initial condition $h_0=0$, and no bias terms or non-linearities.\n",
        "\n",
        "At time step $t=2$ :\n",
        "\n",
        "$$\n",
        "h_2=W_h h_1+W_x x_2\n",
        "$$\n",
        "\n",
        "\n",
        "From $t=1$, we have $h_1=W_x x_1$, so:\n",
        "\n",
        "$$\n",
        "h_2=W_h W_x x_1+W_x x_2\n",
        "$$\n",
        "\n",
        "\n",
        "Next, we compute the output $y_2$ using:\n",
        "\n",
        "$$\n",
        "y_t=\\phi_y\\left(W_y h_t\\right)\n",
        "$$\n",
        "\n",
        "\n",
        "Since $\\phi_y$ is an arbitrary non-linearity, the formula for $y_2$ becomes:\n",
        "\n",
        "$$\n",
        "y_2=\\phi_y\\left(W_y h_2\\right)=\\phi_y\\left(W_y\\left(W_h W_x x_1+W_x x_2\\right)\\right)\n",
        "$$\n",
        "\n",
        "---\n",
        "\n",
        "### (b)\n",
        "\n",
        "Part (b) - Derive $h_3$ and $y_3$\n",
        "At time step $t=3$ :\n",
        "\n",
        "$$\n",
        "h_3=W_h h_2+W_x x_3\n",
        "$$\n",
        "\n",
        "\n",
        "Substituting $h_2$ from part (a):\n",
        "\n",
        "$$\n",
        "h_3=W_h\\left(W_h W_x x_1+W_x x_2\\right)+W_x x_3\n",
        "$$\n",
        "\n",
        "\n",
        "Simplifying:\n",
        "\n",
        "$$\n",
        "h_3=W_h^2 W_x x_1+W_h W_x x_2+W_x x_3\n",
        "$$\n",
        "\n",
        "\n",
        "Now for the output $y_3$ :\n",
        "\n",
        "$$\n",
        "y_3=\\phi_y\\left(W_y h_3\\right)=\\phi_y\\left(W_y\\left(W_h^2 W_x x_1+W_h W_x x_2+W_x x_3\\right)\\right)\n",
        "$$\n",
        "\n",
        "---\n",
        "\n",
        "### (c)\n",
        "For a general time step $t=T$, we have:\n",
        "\n",
        "$$\n",
        "h_T=W_h h_{T-1}+W_x x_T\n",
        "$$\n",
        "\n",
        "\n",
        "By unrolling the recurrence, we obtain:\n",
        "\n",
        "$$\n",
        "h_T=W_h^{T-1} W_x x_1+W_h^{T-2} W_x x_2+\\cdots+W_x x_T\n",
        "$$\n",
        "\n",
        "\n",
        "For the output $y_T$ :\n",
        "\n",
        "$$\n",
        "y_T=\\phi_y\\left(W_y h_T\\right)=\\phi_y\\left(W_y\\left(W_h^{T-1} W_x x_1+W_h^{T-2} W_x x_2+\\cdots+W_x x_T\\right)\\right)\n",
        "$$\n",
        "\n",
        "---\n",
        "\n",
        "### (d)\n",
        "\n",
        "Let's assume for simplicity that $W_x$ is the identity matrix $I$. If the sequence length $T$ is very long, the contribution of the first input $x_1$ to the last output $y_T$ depends on the spectral radius (the largest absolute eigenvalue) of the weight matrix $W_h$ :\n",
        "- If the spectral radius of $W_h$ is less than 1 , the term $W_h^{T-1} W_x x_1$ decays exponentially, causing the contribution of $x_1$ to $y_T$ to vanish (this is the vanishing gradient problem).\n",
        "- If the spectral radius of $W_h$ is greater than 1 , the term $W_h^{T-1} W_x x_1$ will grow exponentially, which can cause instability and lead to exploding gradients.\n",
        "- If the spectral radius of $W_h$ is exactly 1 , the contribution of $x_1$ may remain significant, but this is highly sensitive to the structure of $W_h$ and could still lead to issues with long-term dependencies.\n",
        "\n",
        "In practice, without careful management (e.g., through techniques like gradient clipping or using advanced architectures like LSTMs), RNNs typically struggle to handle very long sequences effectively.\n",
        "\n",
        "---\n",
        "\n",
        "### (e)\n",
        "\n",
        "<!-- For each time step (or token - for comparison with transformer) $t$, we require $\\mathscr{O}(d_{\\text {hidden }}^2 + d_{\\text {in}} d_{\\text {hidden}})$ FLOPs to compute $h_t$ and  $\\mathscr{O}(d_{\\text {hidden }} d_{\\text {out}})$ FLOPs to compute $y_t$. Since we have $T$ time steps or tokens, the overall complexity for the forward pass of the RNN is:\n",
        "$$\n",
        "\\mathscr{O}\\left(T (d_{\\text {hidden }}^2 + d_{\\text {in}} d_{\\text {hidden}} + d_{\\text {hidden }} d_{\\text {out}}) \\right)\n",
        "$$ -->\n",
        "\n",
        "**(i)** For an RNN, the number of floating point operations (FLOPs) required for a forward pass can be broken down into the following components:\n",
        "\n",
        "1. **Hidden state computation $h_t$**:\n",
        "   - $W_h h_{t-1}$ involves $d_{\\text{hidden}} \\times d_{\\text{hidden}}$ multiplications and additions, requiring $2 d_{\\text{hidden}}^2$ FLOPs.\n",
        "   - $W_x x_t$ involves $d_{\\text{hidden}} \\times d_{\\text{in}}$ multiplications and additions, requiring $2 d_{\\text{hidden}} d_{\\text{in}}$ FLOPs.\n",
        "   - The total FLOPs for computing $h_t$ is:\n",
        "   $$\n",
        "   O\\left(d_{\\text{hidden}}^2 + d_{\\text{hidden}} d_{\\text{in}}\\right).\n",
        "   $$\n",
        "\n",
        "2. **Output computation $y_t $**:\n",
        "   - $W_y h_t$ involves $d_{\\text{out}} \\times d_{\\text{hidden}}$ multiplications and additions, requiring $2 d_{\\text{out}} d_{\\text{hidden}}$ FLOPs.\n",
        "   - The total FLOPs for computing $y_t$ is:\n",
        "   $$\n",
        "   O\\left(d_{\\text{out}} d_{\\text{hidden}}\\right).\n",
        "   $$\n",
        "\n",
        "3. **Total FLOPs per time step**:\n",
        "   - Combining the FLOPs for computing $h_t$ and $y_t$, the total FLOPs per time step is:\n",
        "   $$\n",
        "   O\\left(d_{\\text{hidden}}^2 + d_{\\text{hidden}} d_{\\text{in}} + d_{\\text{out}} d_{\\text{hidden}}\\right).\n",
        "   $$\n",
        "\n",
        "4. **Total FLOPs for the entire sequence**:\n",
        "   - Since there are $T$ time steps, the total FLOPs for the forward pass across the sequence is:\n",
        "   $$\n",
        "   O\\left(T \\left(d_{\\text{hidden}}^2 + d_{\\text{hidden}} d_{\\text{in}} + d_{\\text{out}} d_{\\text{hidden}}\\right)\\right).\n",
        "   $$\n",
        "\n",
        "   - For simplicity, we can ignore the term from the cost of computing $y_t$ since $d_{\\text{out}}$ is typically much smaller than $d_{\\text{in}}$ and $d_{\\text{hidden}}$.\n",
        "\n",
        "This gives the total computational complexity for an RNN forward pass:\n",
        "$$\n",
        "O\\left(T \\left(d_{\\text{hidden}}^2 + d_{\\text{hidden}} d_{\\text{in}}\\right)\\right) \\quad \\text{ FLOPs}.\n",
        "$$\n",
        "\n",
        "---\n",
        "\n",
        "\n",
        "**(ii)** For a __self-attention layer__, the number of floating point operations (FLOPs) needed for a forward pass can be broken down as follows:\n",
        "\n",
        "1. **Computing Query, Key, and Value matrices**: For each token, we compute $Q$, $K$, and $V$ using matrix multiplications, which requires $\\mathscr{O}(T d d_{\\text{input}})$ FLOPs.\n",
        "\n",
        "2. **Pairwise Inner Products (Dot product between $Q$ and $K$)**: Computing the dot product between each query and key for all pairs of tokens requires $O(T^2 d)$ FLOPs.\n",
        "\n",
        "3. **Softmax Operation**: Applying softmax to the dot-product matrix involves $O(T^2)$ FLOPs.\n",
        "\n",
        "4. **Weighted Sum of Values**: Multiplying the attention weights by the value vectors involves $O(T^2 d)$ FLOPs.\n",
        "\n",
        "Summing these up, the total complexity for the forward pass of self-attention is dominated by the $O(T^2 d)$ term, leading to the final complexity:\n",
        "$$\n",
        "O(T^2 d) \\quad \\text{ FLOPs}.\n",
        "$$\n",
        "\n",
        "---\n",
        "\n",
        "**(iii)** With sufficient parallel hardware, transformers will generally perform a forward pass faster than RNNs. This is because transformers can compute attention across all tokens in parallel, while RNNs must process each time step sequentially due to their dependence on previous hidden states.\n",
        "\n",
        "RNNs compute the hidden states in a sequential manner, meaning that to compute the hidden state $h_t$, you need the previous hidden state $h_{t-1}$. This dependency prevents parallel computation across time steps. In contrast, self-attention mechanism of transformers can compute pairwise interactions between all tokens simultaneously. This means that the computations for the entire sequence can be performed in parallel, across all tokens.\n",
        "\n",
        "---\n",
        "\n",
        "### (f)\n",
        "\n",
        "For very long sequences $T \\to \\infty$, it is generally preferable to use **RNNs** over **transformers** due to their more favorable memory and time complexity. While transformers allow parallel computation, their quadratic complexity $O(T^2 d)$ with respect to sequence length becomes prohibitive for extremely long sequences, consuming large amounts of memory.\n",
        "\n",
        "In contrast, RNNs have a linear complexity $O(T d_{\\text{hidden}}^2)$, making them more scalable for long sequences. However, RNNs may struggle with long-range dependencies due to vanishing gradients, so depending on the specific task, advanced variants like LSTMs or GRUs might be more suitable.\n"
      ],
      "metadata": {
        "id": "cDCUGHvHkG3F"
      },
      "id": "cDCUGHvHkG3F"
    },
    {
      "cell_type": "code",
      "execution_count": null,
      "metadata": {
        "id": "baab5229"
      },
      "outputs": [],
      "source": [
        "# a utility for calculating running average\n",
        "class AverageMeter():\n",
        "    def __init__(self):\n",
        "        self.num = 0\n",
        "        self.tot = 0\n",
        "\n",
        "    def update(self, val: float, sz: float):\n",
        "        self.num += val*sz\n",
        "        self.tot += sz\n",
        "\n",
        "    def calculate(self) -> float:\n",
        "        return self.num/self.tot"
      ],
      "id": "baab5229"
    },
    {
      "cell_type": "markdown",
      "metadata": {
        "id": "6eb743ee"
      },
      "source": [
        "# Problem 2: Implement a Transformer"
      ],
      "id": "6eb743ee"
    },
    {
      "cell_type": "markdown",
      "metadata": {
        "id": "e6cffe0a"
      },
      "source": [
        "## Part 2.A"
      ],
      "id": "e6cffe0a"
    },
    {
      "cell_type": "code",
      "execution_count": null,
      "metadata": {
        "id": "29fc4254"
      },
      "outputs": [],
      "source": [
        "class AttentionHead(nn.Module):\n",
        "    def __init__(self, dim: int, n_hidden: int):\n",
        "        # dim: the dimension of the input\n",
        "        # n_hidden: the dimension of the keys, queries, and values\n",
        "\n",
        "        # My NOTE: Only the key and queries MUST have the same dimension\n",
        "        # (m intextbook; here called `n_hidden`) since they are\n",
        "        # dot-producted with each other to get attention scores.\n",
        "        # We make the values also have the same dimension becase that works well.\n",
        "        # This results in output tokens with the same dimensionality as input tokens.\n",
        "\n",
        "        super().__init__()\n",
        "\n",
        "        self.W_K = nn.Linear(dim, n_hidden) # W_K weight matrix\n",
        "        self.W_Q = nn.Linear(dim, n_hidden) # W_Q weight matrix\n",
        "        self.W_V = nn.Linear(dim, n_hidden) # W_V weight matrix\n",
        "        self.n_hidden = n_hidden\n",
        "\n",
        "    def forward(self, x: torch.Tensor, attn_mask: Optional[torch.Tensor]) -> Tuple[torch.Tensor, torch.Tensor]:\n",
        "        # x                the inputs. shape: (B x T x dim)\n",
        "        # attn_mask        an attention mask. If None, ignore. If not None, then mask[b, i, j]\n",
        "        #                  contains 1 if (in batch b) token i should attend on token j and 0\n",
        "        #                  otherwise. shape: (B x T x T)\n",
        "        #\n",
        "        # Outputs:\n",
        "        # attn_output      the output of performing self-attention on x. shape: (Batch x Num_tokens x n_hidden)\n",
        "        # alpha            the attention weights (after softmax). shape: (B x T x T)\n",
        "        #\n",
        "        # My NOTE: `T` is the number of tokens corresponding to N in the textbook.\n",
        "        #           `x` is the sequence of input tokens corresponding to (batched version of) T_in in the textbook.\n",
        "        #           `n_hidden` is the dimension of the query and key vectors, corresponding to m in the textbook.\n",
        "        #           `alpha` is the attention matrix corresponding to A in the textbook.\n",
        "        #           `attn_output` is the sequence of output tokens corresponding to (batched version of T_out in the textbook).\n",
        "\n",
        "\n",
        "        out, alpha = None, None\n",
        "        # TODO: Compute self attention on x.\n",
        "        #       (1) First project x to the query Q, key K, value V.\n",
        "        #       (2) Then compute the attention weights alpha as:\n",
        "        #                  alpha = softmax(QK^T/sqrt(n_hidden))\n",
        "        #           Make sure to take into account attn_mask such that token i does not attend on token\n",
        "        #           j if attn_mask[b, i, j] == 0. (Hint, in such a case, what value should you set the weight\n",
        "        #           to before the softmax so that after the softmax the value is 0?)\n",
        "        #       (3) The output is a linear combination of the values (weighted by the alphas):\n",
        "        #                  out = alpha V\n",
        "        #       (4) return the output and the alpha after the softmax\n",
        "\n",
        "        # ======= Answer START ========\n",
        "        Q = self.W_V(x) # query. shape: (B x T x n_hidden)\n",
        "        K = self.W_K(x) # key. shape: (B x T x n_hidden)\n",
        "        V = self.W_V(x) # value. shape: (B x T x n_hidden)\n",
        "        K_T = einops.rearrange(K, 'b t h -> b h t')\n",
        "        QK_T = torch.matmul(Q, K_T)  # (b t h) x (b h t) -> (b t t)\n",
        "        scores = QK_T/(self.n_hidden**0.5) # shape: (B x T x T)\n",
        "        if attn_mask is not None:\n",
        "          scores.masked_fill_(attn_mask == 0, float('-inf')) # masking. thanks Andrej Karpathy! <3\n",
        "        alpha = F.softmax(scores, dim=-1)  # shape: (B x T x T)\n",
        "        # Get the output tokens. (b t t) x (b t h) -> (b t h)\n",
        "        attn_output = torch.matmul(alpha, V) # shape: (B x T x n_hidden)\n",
        "        # ======= Answer  END ========\n",
        "\n",
        "        return attn_output, alpha\n"
      ],
      "id": "29fc4254"
    },
    {
      "cell_type": "code",
      "source": [
        "# @title .\n",
        "# #@markdown GPT\n",
        "\n",
        "# class AttentionHead(nn.Module):\n",
        "#     def __init__(self, dim: int, n_hidden: int):\n",
        "#         super().__init__()\n",
        "\n",
        "#         self.W_K = nn.Linear(dim, n_hidden) # W_K weight matrix\n",
        "#         self.W_Q = nn.Linear(dim, n_hidden) # W_Q weight matrix\n",
        "#         self.W_V = nn.Linear(dim, n_hidden) # W_V weight matrix\n",
        "#         self.n_hidden = n_hidden\n",
        "\n",
        "#     def forward(self, x: torch.Tensor, attn_mask: Optional[torch.Tensor]) -> Tuple[torch.Tensor, torch.Tensor]:\n",
        "#         # x: input tensor of shape (B x T x dim)\n",
        "#         # attn_mask: optional mask tensor of shape (B x T x T)\n",
        "\n",
        "#         # ======= Answer START ========\n",
        "#         Q = self.W_Q(x)  # shape: (B x T x n_hidden)\n",
        "#         K = self.W_K(x)  # shape: (B x T x n_hidden)\n",
        "#         V = self.W_V(x)  # shape: (B x T x n_hidden)\n",
        "\n",
        "#         # Compute attention scores (QK^T)\n",
        "#         K_T = einops.rearrange(K, 'b t h -> b h t')  # Transpose key\n",
        "#         scores = torch.matmul(Q, K_T) / (self.n_hidden ** 0.5)  # (B x T x T)\n",
        "\n",
        "#         # Apply attention mask if provided\n",
        "#         if attn_mask is not None:\n",
        "#             scores = scores.masked_fill(attn_mask == 0, float('-inf'))\n",
        "\n",
        "#         # Compute attention weights (softmax)\n",
        "#         alpha = F.softmax(scores, dim=-1)  # (B x T x T)\n",
        "\n",
        "#         # Compute the attention output as a weighted sum of values\n",
        "#         attn_output = torch.matmul(alpha, V)  # (B x T x n_hidden)\n",
        "#         # ======= Answer END ========\n",
        "\n",
        "#         return attn_output, alpha\n"
      ],
      "metadata": {
        "id": "hbiunyoHSN3y"
      },
      "id": "hbiunyoHSN3y",
      "execution_count": null,
      "outputs": []
    },
    {
      "cell_type": "markdown",
      "metadata": {
        "id": "7d9cb9ad"
      },
      "source": [
        "## Part 2.B"
      ],
      "id": "7d9cb9ad"
    },
    {
      "cell_type": "code",
      "execution_count": null,
      "metadata": {
        "id": "ddd56734"
      },
      "outputs": [],
      "source": [
        "class MultiHeadedAttention(nn.Module):\n",
        "    def __init__(self, dim: int, n_hidden: int, num_heads: int):\n",
        "        # dim: the dimension of the input\n",
        "        # n_hidden: the hidden dimenstion for the attention layer\n",
        "        # num_heads: the number of attention heads\n",
        "        super().__init__()\n",
        "\n",
        "        # TODO: set up your parameters for multi-head attention. You should initialize\n",
        "        #       num_heads attention heads (see nn.ModuleList) as well as a linear layer\n",
        "        #       that projects the concatenated outputs of each head into dim\n",
        "        #       (what size should this linear layer be?)\n",
        "\n",
        "        # My NOTE: num_heads corresponds to k in the textbook\n",
        "        #          W_msa merges all the heads with a linear projection\n",
        "        # ======= Answer START ========\n",
        "        self.num_heads = num_heads\n",
        "        self.heads = nn.ModuleList([AttentionHead(dim, n_hidden) for _ in range(num_heads)])\n",
        "        self.W_msa = nn.Linear(num_heads*n_hidden, dim)\n",
        "        # ======= Answer  END ========\n",
        "\n",
        "    def forward(self, x: torch.Tensor, attn_mask: Optional[torch.Tensor]) -> Tuple[torch.Tensor, torch.Tensor]:\n",
        "        # x                the inputs. shape: (B x T x dim)\n",
        "        # attn_mask        an attention mask. If None, ignore. If not None, then mask[b, i, j]\n",
        "        #                  contains 1 if (in batch b) token i should attend on token j and 0\n",
        "        #                  otherwise. shape: (B x T x T)\n",
        "        #\n",
        "        # Outputs:\n",
        "        # attn_output      the output of performing multi-headed self-attention on x.\n",
        "        #                  shape: (B x T x dim)\n",
        "        # attn_alphas      the attention weights of each of the attention heads.\n",
        "        #                  shape: (B x num_heads x T x T)\n",
        "\n",
        "        attn_output, attn_alphas = None, None\n",
        "\n",
        "        # TODO: Compute multi-headed attention. Loop through each of your attention heads\n",
        "        #       and collect the outputs. Concatenate them together along the hidden dimension,\n",
        "        #       and then project them back into the output dimension (dim). Return both\n",
        "        #       the final attention outputs as well as the alphas from each head.\n",
        "\n",
        "        # ======= Answer START ========\n",
        "        msa_outs, msa_alphas = [], []\n",
        "        for i in range(self.num_heads): # Or could just do `for head in self.heads:`\n",
        "            out, alpha = self.heads[i](x, attn_mask) # (b t h), (b t t)\n",
        "            msa_outs.append(out) # shape: list[num_heads] (B, T, n_hidden)\n",
        "            msa_alphas.append(alpha) #  shape list[num_heads] (B, T, T)\n",
        "        # concatente output of each head\n",
        "        msa_outs = einops.rearrange(msa_outs, 'k b t h -> b t (k h)')\n",
        "        # \"merge\" output of all heads with linear projection\n",
        "        # Get the projected outputs (b t kh) x (kh d) -> (b t d)\n",
        "        attn_output = self.W_msa(msa_outs) # shape: (B, T, dim)\n",
        "        # stack the attention weights from all heads\n",
        "        attn_alphas = einops.rearrange(msa_alphas, 'k b t t2 -> b k t t2')\n",
        "        # ======= Answer END ========\n",
        "\n",
        "        return attn_output, attn_alphas"
      ],
      "id": "ddd56734"
    },
    {
      "cell_type": "code",
      "source": [
        "# @title .\n",
        "# ### My TEST if model works as expeccted ###\n",
        "# import seaborn as sns\n",
        "\n",
        "# dim, n_hidden, num_heads = 3, 5, 7\n",
        "# batch_size, seq_len = 2, 9\n",
        "\n",
        "# model = MultiHeadedAttention(dim, n_hidden, num_heads)\n",
        "\n",
        "# x = torch.randn(batch_size, seq_len, dim)\n",
        "# attn_mask = torch.tril(torch.ones(seq_len, seq_len))\n",
        "# sns.heatmap(attn_mask)\n",
        "# plt.title(\"causal attention mask\")\n",
        "# plt.show()\n",
        "# attn_mask = torch.stack([attn_mask for _ in range(batch_size)], dim=0)\n",
        "\n",
        "# print(f\"\\nexpected shapes: {(batch_size, seq_len, dim)}, {(batch_size, seq_len, seq_len)}\")\n",
        "# print(f\"x, attn_mask: {x.shape, attn_mask.shape}\\n\")\n",
        "\n",
        "# # Run inputs forward through the model\n",
        "# with torch.no_grad():\n",
        "#   attn_output, attn_alphas = model(x, attn_mask)\n",
        "\n",
        "# print(f\"\\nexpected shapes: {(batch_size, seq_len, dim)}, {(batch_size, num_heads, seq_len, seq_len)}\")\n",
        "# print(f\"attn_output, attn_alphas: {attn_output.shape, attn_alphas.shape}\\n\")\n"
      ],
      "metadata": {
        "id": "V2_Ke24dLZ1b"
      },
      "id": "V2_Ke24dLZ1b",
      "execution_count": null,
      "outputs": []
    },
    {
      "cell_type": "code",
      "source": [
        "#@title .\n",
        "# #@markdown GPT\n",
        "# class MultiHeadedAttention(nn.Module):\n",
        "#     def __init__(self, dim: int, n_hidden: int, num_heads: int):\n",
        "#         super().__init__()\n",
        "\n",
        "#         # ======= Answer START ========\n",
        "#         self.num_heads = num_heads\n",
        "#         self.heads = nn.ModuleList([AttentionHead(dim, n_hidden) for _ in range(num_heads)])\n",
        "#         self.W_msa = nn.Linear(num_heads * n_hidden, dim)  # Final linear projection\n",
        "#         # ======= Answer END ========\n",
        "\n",
        "#     def forward(self, x: torch.Tensor, attn_mask: Optional[torch.Tensor]) -> Tuple[torch.Tensor, torch.Tensor]:\n",
        "#         # x: input tensor of shape (B x T x dim)\n",
        "#         # attn_mask: optional mask tensor of shape (B x T x T)\n",
        "\n",
        "#         # ======= Answer START ========\n",
        "#         msa_outs, msa_alphas = [], []\n",
        "#         for head in self.heads:\n",
        "#             out, alpha = head(x, attn_mask)  # (B x T x n_hidden), (B x T x T)\n",
        "#             msa_outs.append(out)\n",
        "#             msa_alphas.append(alpha)\n",
        "\n",
        "#         # Concatenate the output from all heads\n",
        "#         msa_outs = torch.cat(msa_outs, dim=-1)  # shape: (B x T x num_heads * n_hidden)\n",
        "\n",
        "#         # Apply the final linear projection\n",
        "#         attn_output = self.W_msa(msa_outs)  # shape: (B x T x dim)\n",
        "\n",
        "#         # Stack the attention weights from all heads\n",
        "#         attn_alphas = torch.stack(msa_alphas, dim=1)  # shape: (B x num_heads x T x T)\n",
        "#         # ======= Answer END ========\n",
        "\n",
        "#         return attn_output, attn_alphas\n"
      ],
      "metadata": {
        "id": "CS2ocY_eSkjz"
      },
      "id": "CS2ocY_eSkjz",
      "execution_count": null,
      "outputs": []
    },
    {
      "cell_type": "markdown",
      "metadata": {
        "id": "a8012740"
      },
      "source": [
        "## Part 2.C"
      ],
      "id": "a8012740"
    },
    {
      "cell_type": "code",
      "execution_count": null,
      "metadata": {
        "id": "8531bc02"
      },
      "outputs": [],
      "source": [
        "# these are already implemented for you!\n",
        "class FFN(nn.Module):\n",
        "    def __init__(self, dim: int, n_hidden: int):\n",
        "        # dim       the dimension of the input\n",
        "        # n_hidden  the width of the linear layer\n",
        "\n",
        "        super().__init__()\n",
        "        self.net = nn.Sequential(\n",
        "            nn.LayerNorm(dim),\n",
        "            nn.Linear(dim, n_hidden),\n",
        "            nn.GELU(),\n",
        "            nn.Linear(n_hidden, dim),\n",
        "        )\n",
        "\n",
        "    def forward(self, x: torch.Tensor)-> torch.Tensor:\n",
        "        # x         the input. shape: (B x T x dim)\n",
        "\n",
        "        # Outputs:\n",
        "        # out       the output of the feed-forward network: (B x T x dim)\n",
        "        return self.net(x)\n",
        "\n",
        "class AttentionResidual(nn.Module):\n",
        "    def __init__(self, dim: int, attn_dim: int, mlp_dim: int, num_heads: int):\n",
        "        # dim       the dimension of the input\n",
        "        # attn_dim  the hidden dimension of the attention layer\n",
        "        # mlp_dim   the hidden layer of the FFN\n",
        "        # num_heads the number of heads in the attention layer\n",
        "        super().__init__()\n",
        "        self.attn = MultiHeadedAttention(dim, attn_dim, num_heads)\n",
        "        self.ffn = FFN(dim, mlp_dim)\n",
        "\n",
        "    def forward(self, x: torch.Tensor, attn_mask: torch.Tensor) -> Tuple[torch.Tensor, torch.Tensor]:\n",
        "        # x                the inputs. shape: (B x T x dim)\n",
        "        # attn_mask        an attention mask. If None, ignore. If not None, then mask[b, i, j]\n",
        "        #                  contains 1 if (in batch b) token i should attend on token j and 0\n",
        "        #                  otherwise. shape: (B x T x T)\n",
        "        #\n",
        "        # Outputs:\n",
        "        # attn_output      shape: (B x T x dim)\n",
        "        # attn_alphas      the attention weights of each of the attention heads.\n",
        "        #                  shape: (B x Num_heads x T x T)\n",
        "\n",
        "        attn_out, alphas = self.attn(x=x, attn_mask=attn_mask)\n",
        "        x = attn_out + x\n",
        "        x = self.ffn(x) + x\n",
        "        return x, alphas"
      ],
      "id": "8531bc02"
    },
    {
      "cell_type": "code",
      "execution_count": null,
      "metadata": {
        "id": "02c21aea"
      },
      "outputs": [],
      "source": [
        "class Transformer(nn.Module):\n",
        "    def __init__(self, dim: int, attn_dim: int, mlp_dim: int, num_heads: int, num_layers: int):\n",
        "        # dim       the dimension of the input\n",
        "        # attn_dim  the hidden dimension of the attention layer\n",
        "        # mlp_dim   the hidden layer of the FFN\n",
        "        # num_heads the number of heads in the attention layer\n",
        "        # num_layers the number of attention layers.\n",
        "        super().__init__()\n",
        "\n",
        "        # TODO: set up the parameters for the transformer!\n",
        "        #       You should set up num_layers of AttentionResiduals\n",
        "        #       nn.ModuleList will be helpful here.\n",
        "\n",
        "        # ======= Answer START ========\n",
        "        self.num_layers = num_layers\n",
        "        self.layers = nn.ModuleList([AttentionResidual(dim, attn_dim, mlp_dim, num_heads) for _ in range(num_layers)])\n",
        "        # ======= Answer END ========\n",
        "\n",
        "    def forward(self, x: torch.Tensor, attn_mask: torch.Tensor, return_attn=False)-> Tuple[torch.Tensor, Optional[torch.Tensor]]:\n",
        "        # x                the inputs. shape: (B x T x dim)\n",
        "        # attn_mask        an attention mask. Pass this to each of the AttentionResidual layers!\n",
        "        #                  shape: (B x T x T)\n",
        "        #\n",
        "        # Outputs:\n",
        "        # attn_output      shape: (B x T x dim)\n",
        "        # attn_alphas      If return_attn is False, return None. Otherwise return the attention weights\n",
        "        #                  of each of each of the attention heads for each of the layers.\n",
        "        #                  shape: (B x Num_layers x Num_heads x T x T)\n",
        "\n",
        "        output, collected_attns = None, None\n",
        "\n",
        "        # TODO: Implement the transformer forward pass! Pass the input successively through each of the\n",
        "        # AttentionResidual layers. If return_attn is True, collect the alphas along the way.\n",
        "\n",
        "        # ======= Answer START ========\n",
        "        collected_attns = []\n",
        "        for i in range(self.num_layers):\n",
        "              x, attn = self.layers[i](x, attn_mask)\n",
        "              if return_attn:\n",
        "                  collected_attns.append(attn)\n",
        "        output = x\n",
        "        if return_attn:\n",
        "            collected_attns = einops.rearrange(collected_attns, 'n b k t t2 -> b n k t t2')\n",
        "        # ======= Answer END ========\n",
        "\n",
        "        return output, collected_attns if return_attn else None"
      ],
      "id": "02c21aea"
    },
    {
      "cell_type": "code",
      "source": [
        "#@title .\n",
        "# ### My TEST if model works as expeccted ###\n",
        "\n",
        "# dim, attn_dim, mlp_dim, num_heads, num_layers = 2, 3, 5, 7, 9\n",
        "# batch_size, seq_len = 11, 13\n",
        "\n",
        "# model = Transformer(dim, attn_dim, mlp_dim, num_heads, num_layers)\n",
        "\n",
        "# x = torch.randn(batch_size, seq_len, dim)\n",
        "# attn_mask = torch.stack([torch.tril(torch.ones(seq_len, seq_len)) for _ in range(batch_size)], dim=0)\n",
        "\n",
        "# output, collected_attns = model(x, attn_mask, return_attn=True)\n",
        "\n",
        "# print(f\"\\nexpected shapes: {(batch_size, seq_len, dim)}, {(batch_size, num_layers, num_heads, seq_len, seq_len)}\")\n",
        "# print(f\"output, attn_alphas: {output.shape, collected_attns.shape}\\n\")\n"
      ],
      "metadata": {
        "id": "EwUAGPPzx8Wz"
      },
      "id": "EwUAGPPzx8Wz",
      "execution_count": null,
      "outputs": []
    },
    {
      "cell_type": "code",
      "source": [
        "#@title .\n",
        "# #@markdown GPT\n",
        "\n",
        "# class Transformer(nn.Module):\n",
        "#     def __init__(self, dim: int, attn_dim: int, mlp_dim: int, num_heads: int, num_layers: int):\n",
        "#         super().__init__()\n",
        "\n",
        "#         # ======= Answer START ========\n",
        "#         self.num_layers = num_layers\n",
        "#         self.layers = nn.ModuleList([AttentionResidual(dim, attn_dim, mlp_dim, num_heads) for _ in range(num_layers)])\n",
        "#         # ======= Answer END ========\n",
        "\n",
        "#     def forward(self, x: torch.Tensor, attn_mask: torch.Tensor, return_attn=False) -> Tuple[torch.Tensor, Optional[torch.Tensor]]:\n",
        "#         # x: input tensor of shape (B x T x dim)\n",
        "#         # attn_mask: optional mask tensor of shape (B x T x T)\n",
        "#         # return_attn: whether to return the attention weights\n",
        "\n",
        "#         # ======= Answer START ========\n",
        "#         collected_attns = []\n",
        "#         for layer in self.layers:\n",
        "#             x, attn = layer(x, attn_mask)\n",
        "#             if return_attn:\n",
        "#                 collected_attns.append(attn)\n",
        "\n",
        "#         output = x\n",
        "#         if return_attn:\n",
        "#             collected_attns = torch.stack(collected_attns, dim=1)  # shape: (B x num_layers x num_heads x T x T)\n",
        "#         # ======= Answer END ========\n",
        "\n",
        "#         return output, collected_attns if return_attn else None\n"
      ],
      "metadata": {
        "id": "oLSsIeiPSzcy"
      },
      "id": "oLSsIeiPSzcy",
      "execution_count": null,
      "outputs": []
    },
    {
      "cell_type": "markdown",
      "metadata": {
        "id": "643d379b"
      },
      "source": [
        "Test your transformer implementation here"
      ],
      "id": "643d379b"
    },
    {
      "cell_type": "code",
      "execution_count": null,
      "metadata": {
        "id": "9aaa156e",
        "colab": {
          "base_uri": "https://localhost:8080/"
        },
        "outputId": "6b6f03bc-f01d-43f9-d667-865351405a26"
      },
      "outputs": [
        {
          "output_type": "stream",
          "name": "stdout",
          "text": [
            "Test Case 1\n",
            "Test Case 2\n",
            "Test Case 3\n",
            "Attention mask pattern tensor([[1., 0., 0.,  ..., 0., 0., 0.],\n",
            "        [1., 1., 0.,  ..., 0., 0., 0.],\n",
            "        [0., 1., 1.,  ..., 0., 0., 0.],\n",
            "        ...,\n",
            "        [0., 0., 0.,  ..., 1., 0., 0.],\n",
            "        [0., 0., 0.,  ..., 1., 1., 0.],\n",
            "        [0., 0., 0.,  ..., 0., 1., 1.]], device='cuda:0')\n",
            "Alpha pattern tensor([[1.0000, 0.0000, 0.0000,  ..., 0.0000, 0.0000, 0.0000],\n",
            "        [0.3467, 0.6533, 0.0000,  ..., 0.0000, 0.0000, 0.0000],\n",
            "        [0.0000, 0.5038, 0.4962,  ..., 0.0000, 0.0000, 0.0000],\n",
            "        ...,\n",
            "        [0.0000, 0.0000, 0.0000,  ..., 0.5777, 0.0000, 0.0000],\n",
            "        [0.0000, 0.0000, 0.0000,  ..., 0.6023, 0.3977, 0.0000],\n",
            "        [0.0000, 0.0000, 0.0000,  ..., 0.0000, 0.5597, 0.4403]],\n",
            "       device='cuda:0')\n",
            "Test Case 4\n"
          ]
        }
      ],
      "source": [
        "def perform_transformer_test_cases():\n",
        "    num_tokens = 100\n",
        "    batch_size = 10\n",
        "    dim = 64\n",
        "    num_layers = 4\n",
        "    num_heads = 2\n",
        "    dummy_model = Transformer(dim=dim, attn_dim=32, mlp_dim=dim, num_heads=num_heads, num_layers=num_layers).cuda()\n",
        "\n",
        "    inp = torch.randn(batch_size, num_tokens, dim).cuda()\n",
        "\n",
        "    # test case 1 regular forward pass\n",
        "    print(\"Test Case 1\")\n",
        "    with torch.no_grad():\n",
        "        output, alpha = dummy_model(inp, attn_mask=None)\n",
        "        assert alpha is None\n",
        "        assert output.shape == (batch_size, num_tokens, dim), f\"wrong output shape {output.shape}\"\n",
        "\n",
        "    # test case 2 collect attentions\n",
        "    print(\"Test Case 2\")\n",
        "    with torch.no_grad():\n",
        "        output, alpha = dummy_model(inp, attn_mask=None, return_attn=True)\n",
        "        assert output.shape == (batch_size, num_tokens, dim), f\"wrong output shape {output.shape}\"\n",
        "        assert alpha.shape == (batch_size, num_layers, num_heads, num_tokens, num_tokens), f\"wrong alpha shape {alpha.shape}\"\n",
        "\n",
        "    print(\"Test Case 3\")\n",
        "    # test case 3 with attention mask\n",
        "    attn_mask = torch.zeros(batch_size, num_tokens, num_tokens).cuda()\n",
        "    attn_mask[:, torch.arange(num_tokens), torch.arange(num_tokens)] = 1\n",
        "    attn_mask[:, torch.arange(num_tokens)[1:], torch.arange(num_tokens)[:-1]] = 1\n",
        "    with torch.no_grad():\n",
        "        output, alpha = dummy_model(inp, attn_mask=attn_mask, return_attn=True)\n",
        "        print(\"Attention mask pattern\", attn_mask[0])\n",
        "        print(\"Alpha pattern\", alpha[0, 0, 0])\n",
        "        assert torch.all(alpha.permute(1, 2, 0, 3, 4)[:, :, attn_mask == 0] == 0).item()\n",
        "\n",
        "    print(\"Test Case 4\")\n",
        "    # test case 4 creates a causal mask where each token can only attend to previous tokens and itself\n",
        "    causal_mask = torch.tril(torch.ones(num_tokens, num_tokens)).unsqueeze(0).repeat(batch_size, 1, 1).cuda()  # Shape: (B, T, T)\n",
        "\n",
        "    with torch.no_grad():\n",
        "        output, alpha = dummy_model(inp, attn_mask=causal_mask, return_attn=True)\n",
        "        # Verify the causal mask\n",
        "        for b in range(batch_size):\n",
        "            for l in range(num_layers):\n",
        "                for h in range(num_heads):\n",
        "                    attn_weights = alpha[b, l, h]  # Shape: (T, T)\n",
        "                    # Positions where j > i should have zero attention weights\n",
        "                    # We can create a boolean mask for j > i\n",
        "                    future_mask = torch.triu(torch.ones(num_tokens, num_tokens), diagonal=1).bool()  # Shape: (T, T)\n",
        "                    # Extract attention weights for future positions\n",
        "                    future_attn = attn_weights[future_mask]\n",
        "                    # Assert that these weights are close to zero\n",
        "                    assert torch.all(future_attn < 1e-6), f\"Causal mask violated in batch {b}, layer {l}, head {h}\"\n",
        "\n",
        "perform_transformer_test_cases()"
      ],
      "id": "9aaa156e"
    },
    {
      "cell_type": "markdown",
      "source": [
        "### 2.(d)\n",
        "\n",
        "To adapt the transformer architecture for continuous inputs like audio and images, the data must first be divided into meaningful \"tokens\" (e.g., patches of an image or short segments of audio). Each token is then projected into an embedding space, similar to how words are embedded in NLP tasks. Positional encodings are added to the embeddings to provide information about the order or structure of the tokens, allowing the transformer to capture both local relationships (within patches or segments) and global relationships (across the entire input) via self-attention. Alternatively, continuous data can be discretized or quantized into a finite set of values, treating each unit as a token and applying the same embedding and positional encoding techniques to process\n",
        "\n",
        "---\n"
      ],
      "metadata": {
        "id": "YAra9B8_yqwu"
      },
      "id": "YAra9B8_yqwu"
    },
    {
      "cell_type": "markdown",
      "source": [
        "#### extra detail\n",
        "\n",
        "<!--\n",
        "__Handling Continuous Inputs:__  \n",
        "Transformers for continuous data inputs, like images or audio, tokenize the input into meaningful segments (e.g., image patches or audio frames). Each segment is linearly projected into a continuous embedding space, and positional encodings are added to capture the order or location of the segments. This allows the model to apply self-attention mechanisms effectively across both local and global relationships within the data.\n",
        "\n",
        "__Discrete vs Continuous Embeddings:__  \n",
        "In language models, tokens correspond to a finite vocabulary, where each token is associated with a unique embedding vector. In continuous domains like images and audio, there is no predefined vocabulary, and embeddings are learned from raw input segments through linear projections. While language models use discrete embeddings, transformers for continuous inputs process embeddings from a continuous-valued space without requiring discretization.\n",
        "\n",
        "__Discretization Techniques:__  \n",
        "Discretization methods, such as vector quantization, can be used to map continuous inputs into a finite set of embedding vectors. However, this approach is rare in practice for most transformers processing continuous data, as it can lead to information loss. Instead, continuous embeddings offer more flexibility and allow the model to better capture fine-grained relationships in the data.\n",
        "\n",
        "__Practical Use:__  \n",
        "Most transformers for continuous inputs, like Vision Transformers (ViT) and audio transformers, do not require discretization and work well with continuous embeddings. Discretization is mainly used in specialized cases like generative models (e.g., VQ-VAE) or compression, where reducing the representation to a countable set of vectors offers specific benefits. -->"
      ],
      "metadata": {
        "id": "vdEjifqvcdiu"
      },
      "id": "vdEjifqvcdiu"
    },
    {
      "cell_type": "markdown",
      "metadata": {
        "id": "5afc7e9b"
      },
      "source": [
        "## Problem 3: Vision Transformer"
      ],
      "id": "5afc7e9b"
    },
    {
      "cell_type": "markdown",
      "metadata": {
        "id": "67b725d5"
      },
      "source": [
        "## Part 3.A"
      ],
      "id": "67b725d5"
    },
    {
      "cell_type": "markdown",
      "source": [
        "$$\n",
        "\\begin{aligned}\n",
        "& \\text { - Input: }\\left(N, C_{i n}, H_{i n}, W_{i n}\\right) \\text { or }\\left(C_{i n}, H_{i n}, W_{i n}\\right) \\\\\n",
        "& \\text { - Output: }\\left(N, C_{\\text {out }}, H_{\\text {out }}, W_{\\text {out }}\\right) \\text { or }\\left(C_{\\text {out }}, H_{\\text {out }}, W_{\\text {out }}\\right) \\text {, where } \\\\\n",
        "& H_{\\text {out }}=\\left\\lfloor\\frac{H_{\\text {in }}+2 \\times \\text { padding }[0]-\\text { dilation }[0] \\times(\\text { kernel_size[0] }-1)-1}{\\text { stride[0] }}+1\\right\\rfloor \\\\\n",
        "& W_{\\text {out }}=\\left\\lfloor\\frac{W_{\\text {in }}+2 \\times \\text { padding }[1]-\\text { dilation }[1] \\times(\\text { kernel_size }[1]-1)-1}{\\text { stride }[1]}+1\\right\\rfloor\n",
        "\\end{aligned}\n",
        "$$"
      ],
      "metadata": {
        "id": "TsOdy4WaYLRf"
      },
      "id": "TsOdy4WaYLRf"
    },
    {
      "cell_type": "code",
      "execution_count": null,
      "metadata": {
        "id": "0dc4ea76"
      },
      "outputs": [],
      "source": [
        "class PatchEmbed(nn.Module):\n",
        "    \"\"\" Image to Patch Embedding\n",
        "    \"\"\"\n",
        "    def __init__(self, img_size: int, patch_size: int, nin: int, nout: int):\n",
        "        # img_size       the width and height of the image. you can assume that\n",
        "        #                the images will be square\n",
        "        # patch_size     the width of each square patch. You can assume that\n",
        "        #                img_size is divisible by patch_size\n",
        "        # nin            the number of input channels\n",
        "        # nout           the number of output channels\n",
        "\n",
        "        super().__init__()\n",
        "        assert img_size % patch_size == 0\n",
        "\n",
        "        self.img_size = img_size\n",
        "        self.num_patches = (img_size // patch_size)**2\n",
        "\n",
        "        # TODO Set up parameters for the Patch Embedding\n",
        "        # ======= Answer START ========\n",
        "        # My NOTE: Calculating the output size according to the equations above:\n",
        "        # Hout = [(Hin - (patch_size - 1) - 1)/patch_size + 1]\n",
        "        #      = [(Hin - patch_size)/patch_size + 1]\n",
        "        #      = [Hin/patch_size] = img_size // patch_size = sqrt(num_patches)\n",
        "        self.patchifier = nn.Sequential(\n",
        "            nn.Conv2d(in_channels=nin, out_channels=nout,\n",
        "                      kernel_size=patch_size,\n",
        "                      stride=patch_size, padding=0), # shape: (B, nout, sqrt(num_patches), sqrt(num_patches))\n",
        "            nn.Flatten(start_dim=2), # shape: (B, nout, num_patches)\n",
        "            )\n",
        "\n",
        "\n",
        "        # ======= Answer END ========\n",
        "\n",
        "    def forward(self, x: torch.Tensor):\n",
        "        # x        the input image. shape: (B, nin, Height, Width)\n",
        "        #\n",
        "        # Output\n",
        "        # out      the patch embeddings for the input. shape: (B, num_patches, nout)\n",
        "\n",
        "\n",
        "        # TODO: Implement the patch embedding. You want to split up the image into\n",
        "        # square patches of the given patch size. Then each patch_size x patch_size\n",
        "        # square should be linearly projected into an embedding of size nout.\n",
        "        #\n",
        "        # Hint: Take a look at nn.Conv2d. How can this be used to perform the\n",
        "        #       patch embedding?\n",
        "        out = None\n",
        "\n",
        "        # ======= Answer START ========\n",
        "        out = self.patchifier(x).permute(0, 2, 1) # shape: (B, num_patches, nout)\n",
        "        # ======= Answer END ========\n",
        "\n",
        "        return out"
      ],
      "id": "0dc4ea76"
    },
    {
      "cell_type": "code",
      "source": [
        "#@title .\n",
        "# ###  My DEBUG Cell ###\n",
        "\n",
        "# # x, y = train_dataset[-1]\n",
        "# # im = (x * torch.tensor(STD).reshape(-1,1,1)) + torch.tensor(MEAN).reshape(-1,1,1)\n",
        "# # plt.imshow(im.permute(1,2,0))\n",
        "# # plt.title(y)\n",
        "\n",
        "# nin, img_size = 3, 32\n",
        "# nout = 128\n",
        "# patch_size = 4\n",
        "# batch_size = 1\n",
        "# num_patches = (img_size // patch_size)**2 # expected number of patches\n",
        "\n",
        "# x = torch.randn(batch_size, nin, img_size,img_size) # example image batch\n",
        "# print(x.shape)\n",
        "\n",
        "\n",
        "# model = PatchEmbed(img_size, patch_size, nin, nout)\n",
        "\n",
        "# with torch.no_grad():\n",
        "#   # seeing the sequqential transformation\n",
        "#   conv_out = model.patchifier[0](x)\n",
        "#   print(f\"conv_out: {conv_out.shape}\")\n",
        "#   embd_out = model.patchifier[1](conv_out)\n",
        "#   print(f\"embd_out: {embd_out.shape}\")\n",
        "\n",
        "#   # as a single sequential layer\n",
        "#   out = model.patchifier(x).permute(0, 2, 1)\n",
        "#   print(f\"\\nexpected (batch_size, num_patches, nout): {(batch_size, num_patches, nout)}\")\n",
        "#   print(f\"out: {out.shape}\\n\")\n",
        "\n",
        "#   # as a complete model\n",
        "#   out = model(x)\n",
        "#   print(f\"out: {out.shape}\")\n"
      ],
      "metadata": {
        "id": "Go5XNiqYqKPY"
      },
      "id": "Go5XNiqYqKPY",
      "execution_count": null,
      "outputs": []
    },
    {
      "cell_type": "code",
      "source": [
        "#@title .\n",
        "# #@markdown GPT\n",
        "\n",
        "# class PatchEmbed(nn.Module):\n",
        "#     \"\"\" Image to Patch Embedding\n",
        "#     \"\"\"\n",
        "#     def __init__(self, img_size: int, patch_size: int, nin: int, nout: int):\n",
        "#         # img_size       the width and height of the image. you can assume that\n",
        "#         #                the images will be square\n",
        "#         # patch_size     the width of each square patch. You can assume that\n",
        "#         #                img_size is divisible by patch_size\n",
        "#         # nin            the number of input channels\n",
        "#         # nout           the number of output channels\n",
        "\n",
        "#         super().__init__()\n",
        "#         assert img_size % patch_size == 0\n",
        "\n",
        "#         self.img_size = img_size\n",
        "#         self.num_patches = (img_size // patch_size)**2\n",
        "\n",
        "#         # TODO Set up parameters for the Patch Embedding\n",
        "#         # ======= Answer START ========\n",
        "#         # We use Conv2d to split the image into patches and project each patch to nout dimensions.\n",
        "#         # The convolution uses a kernel size equal to the patch size, and the stride is set to the patch size to ensure no overlap.\n",
        "#         self.patchifier = nn.Conv2d(in_channels=nin,\n",
        "#                                     out_channels=nout,\n",
        "#                                     kernel_size=patch_size,\n",
        "#                                     stride=patch_size)\n",
        "#         # ======= Answer END ========\n",
        "\n",
        "#     def forward(self, x: torch.Tensor):\n",
        "#         # x        the input image. shape: (B, nin, Height, Width)\n",
        "#         #\n",
        "#         # Output\n",
        "#         # out      the patch embeddings for the input. shape: (B, num_patches, nout)\n",
        "\n",
        "#         # TODO: Implement the patch embedding. You want to split up the image into\n",
        "#         # square patches of the given patch size. Then each patch_size x patch_size\n",
        "#         # square should be linearly projected into an embedding of size nout.\n",
        "#         #\n",
        "#         # Hint: Take a look at nn.Conv2d. How can this be used to perform the\n",
        "#         #       patch embedding?\n",
        "#         out = None\n",
        "\n",
        "#         # ======= Answer START ========\n",
        "#         # Apply the Conv2d layer to get the patches and project to nout.\n",
        "#         # After the convolution, the shape will be (B, nout, num_patches_height, num_patches_width)\n",
        "#         # We then flatten the last two dimensions (num_patches_height, num_patches_width) into one dimension.\n",
        "#         out = self.patchifier(x)  # Shape: (B, nout, H/P, W/P)\n",
        "#         out = out.flatten(2).transpose(1, 2)  # Shape: (B, num_patches, nout)\n",
        "#         # ======= Answer END ========\n",
        "\n",
        "#         return out\n"
      ],
      "metadata": {
        "id": "JHSjf1cOUJxb",
        "cellView": "form"
      },
      "id": "JHSjf1cOUJxb",
      "execution_count": null,
      "outputs": []
    },
    {
      "cell_type": "markdown",
      "metadata": {
        "id": "57d32978"
      },
      "source": [
        "## Part 3.B"
      ],
      "id": "57d32978"
    },
    {
      "cell_type": "code",
      "execution_count": null,
      "metadata": {
        "id": "df3d8a7a"
      },
      "outputs": [],
      "source": [
        "class VisionTransformer(nn.Module):\n",
        "    def __init__(self, n_channels: int, nout: int, img_size: int, patch_size: int, dim: int, attn_dim: int,\n",
        "                 mlp_dim: int, num_heads: int, num_layers: int):\n",
        "        # n_channels       number of input image channels\n",
        "        # nout             desired output dimension\n",
        "        # img_size         width of the square image\n",
        "        # patch_size       width of the square patch\n",
        "        # dim              embedding dimension\n",
        "        # attn_dim         the hidden dimension of the attention layer\n",
        "        # mlp_dim          the hidden layer dimension of the FFN\n",
        "        # num_heads        the number of heads in the attention layer\n",
        "        # num_layers       the number of attention layers.\n",
        "        super().__init__()\n",
        "        self.patch_embed = PatchEmbed(img_size=img_size, patch_size=patch_size, nin=n_channels, nout=dim)\n",
        "        self.pos_E = nn.Embedding((img_size//patch_size)**2, dim) # positional embedding matrix\n",
        "\n",
        "        # My QUESTION: what information does cls_token this add?\n",
        "        self.cls_token = nn.Parameter(torch.randn(1, 1, dim)) # learned class embedding\n",
        "        self.transformer = Transformer(\n",
        "            dim=dim, attn_dim=attn_dim, mlp_dim=mlp_dim, num_heads=num_heads, num_layers=num_layers)\n",
        "\n",
        "        self.head = nn.Sequential(\n",
        "            nn.LayerNorm(dim),\n",
        "            nn.Linear(dim, nout)\n",
        "        )\n",
        "\n",
        "    def forward(self, img: torch.Tensor, return_attn=False) ->Tuple[torch.Tensor, Optional[torch.Tensor]]:\n",
        "        # img          the input image. shape: (B, nin, img_size, img_size)\n",
        "        # return_attn  whether to return the attention alphas\n",
        "        #\n",
        "        # Outputs\n",
        "        # out          the output of the vision transformer. shape: (B, nout)\n",
        "        # alphas       the attention weights for all heads and layers. None if return_attn is False, otherwise\n",
        "        #              shape: (B, num_layers, num_heads, num_patches + 1, num_patches + 1)\n",
        "\n",
        "        # generate embeddings\n",
        "        # My NOTE: T = num_patches, _ = dim, len(embds) = B\n",
        "        embs = self.patch_embed(img) # patch embedding\n",
        "        B, T, _ = embs.shape\n",
        "        pos_ids = torch.arange(T).expand(B, -1).to(embs.device)\n",
        "        embs += self.pos_E(pos_ids) # positional embedding\n",
        "\n",
        "        cls_token = self.cls_token.expand(len(embs), -1, -1) # My NOTE: expect shape: (B, 1, dim)\n",
        "        x = torch.cat([cls_token, embs], dim=1) # My NOTE: expect shape: (B, T+1, dim)\n",
        "\n",
        "        x, alphas = self.transformer(x, attn_mask=None, return_attn=return_attn)\n",
        "        out = self.head(x)[:, 0]\n",
        "        return out, alphas"
      ],
      "id": "df3d8a7a"
    },
    {
      "cell_type": "code",
      "source": [
        "#@title .\n",
        "# ### My DEBUG Cell ###\n",
        "# dim = nout\n",
        "\n",
        "# model = VisionTransformer(nin, nout, img_size, patch_size, dim, attn_dim, mlp_dim, num_heads, num_layers)\n",
        "\n",
        "# with torch.no_grad():\n",
        "#   out, alphas = model(x, True)\n",
        "#   print(out.shape) # shape: (B, nout)\n",
        "#   print(alphas.shape) # shape: (B, num_layers, num_heads, num_patches + 1, num_patches + 1)"
      ],
      "metadata": {
        "id": "xaK36MZhBGyD",
        "cellView": "form"
      },
      "id": "xaK36MZhBGyD",
      "execution_count": null,
      "outputs": []
    },
    {
      "cell_type": "markdown",
      "source": [
        "#### what the `cls_token` does\n",
        "\n",
        "<!-- The class token (often denoted as `cls_token`) is a special learnable parameter introduced in the Vision Transformer (ViT) architecture and other transformer-based models. It serves a specific purpose in the context of classification.\n",
        "\n",
        "Here's how the class token works conceptually:\n",
        "\n",
        "### 1. **What is the class token?**\n",
        "The `cls_token` is a learnable vector, typically initialized randomly, with the same dimensionality as the other tokens (e.g., the patch embeddings in the Vision Transformer). It doesn't correspond to any specific part of the input image, but it's prepended to the sequence of input tokens (patch embeddings).\n",
        "\n",
        "### 2. **What does the class token do?**\n",
        "During the self-attention process, each token (including the `cls_token`) attends to all other tokens in the input sequence. This means that the class token learns to aggregate information from all the patches of the image through the self-attention mechanism. In the end, after passing through the transformer layers, the output corresponding to the `cls_token` is treated as the \"summary\" of the image — effectively containing the information needed to classify the image.\n",
        "\n",
        "### 3. **Why doesn't the class token need the label as input?**\n",
        "You are correct that we never directly provide the image label to the model. Instead, the class token learns to \"attend\" to relevant features across the image through the transformer layers. Over the course of training, the model learns to adjust the class token's representation to summarize the features necessary for classification. The key idea is that the class token is used to aggregate information from all the patch tokens, and through backpropagation during training, the class token learns to encode class-relevant information without directly receiving the label.\n",
        "\n",
        "### 4. **What does the class token learn?**\n",
        "The class token learns to represent the global context of the image by attending to the other tokens (which correspond to image patches). By the time it passes through the transformer layers, it has \"seen\" the entire image (through the attention mechanism) and has aggregated relevant features. The final output corresponding to the class token is then fed into a classifier (the linear layer in `self.head`), which produces the classification logits. In this way, the class token learns a high-level representation of the image that is useful for classification.\n",
        "\n",
        "### 5. **Analogy to BERT's `CLS` token:**\n",
        "In the BERT model for NLP, the `CLS` token works similarly. It's a special token prepended to a sequence of words, and its final representation is used for tasks like sentence classification. In Vision Transformers, the `cls_token` plays the same role, acting as a global representation for the entire image.\n",
        "\n",
        "### 6. **Summary of the process:**\n",
        "1. The `cls_token` is prepended to the sequence of patch embeddings.\n",
        "2. It attends to all the patches during the self-attention steps.\n",
        "3. Over the layers, the `cls_token` learns to aggregate relevant information from the patches.\n",
        "4. The final representation of the `cls_token` is treated as the \"image representation\" and passed to the classification head.\n",
        "\n",
        "So, while the `cls_token` itself doesn't start with any class-related information, it learns to represent the global image context through training, and the classification head uses this learned representation to predict the image label.\n",
        "\n",
        "---\n",
        "\n",
        "-->"
      ],
      "metadata": {
        "id": "1h8equMG3KCt"
      },
      "id": "1h8equMG3KCt"
    },
    {
      "cell_type": "markdown",
      "source": [
        "### 3.(b)\n",
        "\n",
        "To handle arbitrarily long inputs, we can use **sinusoidal positional embeddings** instead of learned ones. These embeddings encode positions using sine and cosine functions of different frequencies, allowing the model to handle any sequence length without predefined positional vectors. The formula for the \\( p \\)-th position in the sequence is:\n",
        "\n",
        "$$\n",
        "PE_{(p, 2i)} = \\sin \\left(\\frac{p}{10000^{2i/d}}\\right), \\quad PE_{(p, 2i+1)} = \\cos \\left(\\frac{p}{10000^{2i/d}}\\right)\n",
        "$$\n",
        "\n",
        "This approach generalizes to unseen sequence lengths and allows for continuous, periodic encoding of positions, avoiding the need to learn position embeddings for each token explicitly."
      ],
      "metadata": {
        "id": "48nAJ7q9vEH8"
      },
      "id": "48nAJ7q9vEH8"
    },
    {
      "cell_type": "markdown",
      "metadata": {
        "id": "8bcc81df"
      },
      "source": [
        "## Part 3.C"
      ],
      "id": "8bcc81df"
    },
    {
      "cell_type": "code",
      "execution_count": null,
      "metadata": {
        "id": "e1107044",
        "colab": {
          "base_uri": "https://localhost:8080/"
        },
        "outputId": "8c5a03b4-d459-4f33-e626-8280fe5f56be"
      },
      "outputs": [
        {
          "output_type": "stream",
          "name": "stdout",
          "text": [
            "Files already downloaded and verified\n"
          ]
        }
      ],
      "source": [
        "# set up the dataset and dataloader\n",
        "\n",
        "MEAN = [0.4914, 0.4822, 0.4465]\n",
        "STD = [0.2470, 0.2435, 0.2616]\n",
        "img_transform = transforms.Compose([\n",
        "    transforms.ToTensor(),\n",
        "    transforms.Normalize(mean=MEAN, std=STD),\n",
        "])\n",
        "inv_transform = transforms.Compose([\n",
        "    transforms.Normalize(\n",
        "        mean = [ 0., 0., 0. ],\n",
        "        std = 1/np.array(STD)),\n",
        "    transforms.Normalize(\n",
        "        mean = -np.array(MEAN),\n",
        "        std = [ 1., 1., 1. ]),\n",
        "    transforms.ToPILImage(),\n",
        "])\n",
        "\n",
        "\n",
        "train_dataset = torchvision.datasets.CIFAR10(train=True, root='data', transform=img_transform, download=True)\n",
        "val_dataset = torchvision.datasets.CIFAR10(train=False, root='data', transform=img_transform)\n",
        "train_dataloader = torch.utils.data.DataLoader(train_dataset, batch_size=256, shuffle=True, num_workers=10)\n",
        "val_dataloader = torch.utils.data.DataLoader(val_dataset, batch_size=256, shuffle=False, num_workers=10)"
      ],
      "id": "e1107044"
    },
    {
      "cell_type": "code",
      "execution_count": null,
      "metadata": {
        "id": "2540d4b3"
      },
      "outputs": [],
      "source": [
        "# set up the model and optimizer\n",
        "\n",
        "import torch.optim as optim\n",
        "\n",
        "model = VisionTransformer(n_channels=3, nout=10, img_size=32,\n",
        "                          patch_size=4,\n",
        "                          # patch_size=2, # <- My NOTE: use smaller patches for higher res attention map?\n",
        "                          dim=128, attn_dim=64, mlp_dim=128, num_heads=3, num_layers=6).cuda()\n",
        "\n",
        "criterion = nn.CrossEntropyLoss()\n",
        "\n",
        "\n",
        "NUM_EPOCHS = 20\n",
        "optimizer = optim.AdamW(model.parameters(), lr=0.001)\n",
        "scheduler = optim.lr_scheduler.CosineAnnealingLR(optimizer, T_max=NUM_EPOCHS)\n",
        "\n"
      ],
      "id": "2540d4b3"
    },
    {
      "cell_type": "code",
      "execution_count": null,
      "metadata": {
        "id": "147e1bc8"
      },
      "outputs": [],
      "source": [
        "# evaluate the model\n",
        "def evaluate_cifar_model(model, criterion, val_loader):\n",
        "    is_train = model.training\n",
        "    model.eval()\n",
        "    with torch.no_grad():\n",
        "        loss_meter, acc_meter = AverageMeter(), AverageMeter()\n",
        "        for img, labels in val_loader:\n",
        "            # move all img, labels to device (cuda)\n",
        "            img = img.cuda()\n",
        "            labels = labels.cuda()\n",
        "            outputs, _ = model(img)\n",
        "            loss_meter.update(criterion(outputs, labels).item(), len(img))\n",
        "            acc = (outputs.argmax(-1) == labels).float().mean().item()\n",
        "            acc_meter.update(acc, len(img))\n",
        "    model.train(is_train)\n",
        "    return loss_meter.calculate(), acc_meter.calculate()"
      ],
      "id": "147e1bc8"
    },
    {
      "cell_type": "code",
      "execution_count": null,
      "metadata": {
        "id": "d69183ce",
        "colab": {
          "base_uri": "https://localhost:8080/"
        },
        "outputId": "6752d250-63c7-4381-f107-0c321a8c117e"
      },
      "outputs": [
        {
          "output_type": "stream",
          "name": "stderr",
          "text": [
            "100%|██████████| 196/196 [00:07<00:00, 25.85it/s]"
          ]
        },
        {
          "output_type": "stream",
          "name": "stdout",
          "text": [
            "Train Epoch: 0, Loss: 1.6923636917495728, Acc: 0.3880200000190735\n"
          ]
        },
        {
          "output_type": "stream",
          "name": "stderr",
          "text": [
            "\n"
          ]
        },
        {
          "output_type": "stream",
          "name": "stdout",
          "text": [
            "Val Epoch: 0, Loss: 1.448809683227539, Acc: 0.481\n"
          ]
        },
        {
          "output_type": "stream",
          "name": "stderr",
          "text": [
            "100%|██████████| 196/196 [00:07<00:00, 26.53it/s]\n"
          ]
        },
        {
          "output_type": "stream",
          "name": "stdout",
          "text": [
            "Train Epoch: 1, Loss: 1.3660355824279786, Acc: 0.5097799999809265\n"
          ]
        },
        {
          "output_type": "stream",
          "name": "stderr",
          "text": [
            "100%|██████████| 196/196 [00:07<00:00, 26.66it/s]\n"
          ]
        },
        {
          "output_type": "stream",
          "name": "stdout",
          "text": [
            "Train Epoch: 2, Loss: 1.2258548731231689, Acc: 0.56218\n"
          ]
        },
        {
          "output_type": "stream",
          "name": "stderr",
          "text": [
            "100%|██████████| 196/196 [00:06<00:00, 28.04it/s]\n"
          ]
        },
        {
          "output_type": "stream",
          "name": "stdout",
          "text": [
            "Train Epoch: 3, Loss: 1.1282779718017577, Acc: 0.5945000000190734\n"
          ]
        },
        {
          "output_type": "stream",
          "name": "stderr",
          "text": [
            "100%|██████████| 196/196 [00:07<00:00, 27.51it/s]\n"
          ]
        },
        {
          "output_type": "stream",
          "name": "stdout",
          "text": [
            "Train Epoch: 4, Loss: 1.0458253925704957, Acc: 0.6250999999809265\n"
          ]
        },
        {
          "output_type": "stream",
          "name": "stderr",
          "text": [
            "100%|██████████| 196/196 [00:07<00:00, 28.00it/s]\n"
          ]
        },
        {
          "output_type": "stream",
          "name": "stdout",
          "text": [
            "Train Epoch: 5, Loss: 0.9575428318786621, Acc: 0.6598600000190735\n"
          ]
        },
        {
          "output_type": "stream",
          "name": "stderr",
          "text": [
            "100%|██████████| 196/196 [00:06<00:00, 28.90it/s]\n"
          ]
        },
        {
          "output_type": "stream",
          "name": "stdout",
          "text": [
            "Train Epoch: 6, Loss: 0.8785941297531128, Acc: 0.6875200000190735\n"
          ]
        },
        {
          "output_type": "stream",
          "name": "stderr",
          "text": [
            "100%|██████████| 196/196 [00:06<00:00, 28.09it/s]\n"
          ]
        },
        {
          "output_type": "stream",
          "name": "stdout",
          "text": [
            "Train Epoch: 7, Loss: 0.7834734962463379, Acc: 0.722500000038147\n"
          ]
        },
        {
          "output_type": "stream",
          "name": "stderr",
          "text": [
            "100%|██████████| 196/196 [00:07<00:00, 27.89it/s]\n"
          ]
        },
        {
          "output_type": "stream",
          "name": "stdout",
          "text": [
            "Train Epoch: 8, Loss: 0.6927296859359742, Acc: 0.755460000038147\n"
          ]
        },
        {
          "output_type": "stream",
          "name": "stderr",
          "text": [
            "100%|██████████| 196/196 [00:06<00:00, 28.11it/s]\n"
          ]
        },
        {
          "output_type": "stream",
          "name": "stdout",
          "text": [
            "Train Epoch: 9, Loss: 0.5846972003936768, Acc: 0.7945599999809265\n"
          ]
        },
        {
          "output_type": "stream",
          "name": "stderr",
          "text": [
            "100%|██████████| 196/196 [00:07<00:00, 27.38it/s]"
          ]
        },
        {
          "output_type": "stream",
          "name": "stdout",
          "text": [
            "Train Epoch: 10, Loss: 0.47663310430526734, Acc: 0.8343200000190735\n"
          ]
        },
        {
          "output_type": "stream",
          "name": "stderr",
          "text": [
            "\n"
          ]
        },
        {
          "output_type": "stream",
          "name": "stdout",
          "text": [
            "Val Epoch: 10, Loss: 1.3128483423233033, Acc: 0.6049\n"
          ]
        },
        {
          "output_type": "stream",
          "name": "stderr",
          "text": [
            "100%|██████████| 196/196 [00:06<00:00, 28.29it/s]\n"
          ]
        },
        {
          "output_type": "stream",
          "name": "stdout",
          "text": [
            "Train Epoch: 11, Loss: 0.368047430229187, Acc: 0.8731999999809266\n"
          ]
        },
        {
          "output_type": "stream",
          "name": "stderr",
          "text": [
            "100%|██████████| 196/196 [00:07<00:00, 27.56it/s]\n"
          ]
        },
        {
          "output_type": "stream",
          "name": "stdout",
          "text": [
            "Train Epoch: 12, Loss: 0.2617899986553192, Acc: 0.9142999999809265\n"
          ]
        },
        {
          "output_type": "stream",
          "name": "stderr",
          "text": [
            "100%|██████████| 196/196 [00:06<00:00, 28.41it/s]\n"
          ]
        },
        {
          "output_type": "stream",
          "name": "stdout",
          "text": [
            "Train Epoch: 13, Loss: 0.17477291272163392, Acc: 0.9460399999809265\n"
          ]
        },
        {
          "output_type": "stream",
          "name": "stderr",
          "text": [
            "100%|██████████| 196/196 [00:07<00:00, 26.82it/s]\n"
          ]
        },
        {
          "output_type": "stream",
          "name": "stdout",
          "text": [
            "Train Epoch: 14, Loss: 0.0992271074295044, Acc: 0.9733999999809265\n"
          ]
        },
        {
          "output_type": "stream",
          "name": "stderr",
          "text": [
            "100%|██████████| 196/196 [00:07<00:00, 26.67it/s]\n"
          ]
        },
        {
          "output_type": "stream",
          "name": "stdout",
          "text": [
            "Train Epoch: 15, Loss: 0.054594110896587375, Acc: 0.9892000000190735\n"
          ]
        },
        {
          "output_type": "stream",
          "name": "stderr",
          "text": [
            "100%|██████████| 196/196 [00:07<00:00, 27.51it/s]\n"
          ]
        },
        {
          "output_type": "stream",
          "name": "stdout",
          "text": [
            "Train Epoch: 16, Loss: 0.030064023311138152, Acc: 0.99626\n"
          ]
        },
        {
          "output_type": "stream",
          "name": "stderr",
          "text": [
            "100%|██████████| 196/196 [00:06<00:00, 28.25it/s]\n"
          ]
        },
        {
          "output_type": "stream",
          "name": "stdout",
          "text": [
            "Train Epoch: 17, Loss: 0.02033128567099571, Acc: 0.99858\n"
          ]
        },
        {
          "output_type": "stream",
          "name": "stderr",
          "text": [
            "100%|██████████| 196/196 [00:06<00:00, 28.43it/s]\n"
          ]
        },
        {
          "output_type": "stream",
          "name": "stdout",
          "text": [
            "Train Epoch: 18, Loss: 0.01653161808222532, Acc: 0.99892\n"
          ]
        },
        {
          "output_type": "stream",
          "name": "stderr",
          "text": [
            "100%|██████████| 196/196 [00:07<00:00, 27.16it/s]"
          ]
        },
        {
          "output_type": "stream",
          "name": "stdout",
          "text": [
            "Train Epoch: 19, Loss: 0.01504394968777895, Acc: 0.9992\n"
          ]
        },
        {
          "output_type": "stream",
          "name": "stderr",
          "text": [
            "\n"
          ]
        },
        {
          "output_type": "stream",
          "name": "stdout",
          "text": [
            "Val Epoch: 19, Loss: 2.1456632263183595, Acc: 0.5951\n",
            "Finished Training\n"
          ]
        }
      ],
      "source": [
        "# Time Estimate: less than 5 minutes on T4 GPU\n",
        "# train the model\n",
        "import tqdm\n",
        "for epoch in range(NUM_EPOCHS):\n",
        "    loss_meter = AverageMeter()\n",
        "    acc_meter = AverageMeter()\n",
        "    for img, labels in tqdm.tqdm(train_dataloader):\n",
        "        img, labels = img.cuda(), labels.cuda()\n",
        "\n",
        "        optimizer.zero_grad()\n",
        "\n",
        "        outputs, _ = model(img)\n",
        "        loss = criterion(outputs, labels)\n",
        "        loss_meter.update(loss.item(), len(img))\n",
        "        acc = (outputs.argmax(-1) == labels).float().mean().item()\n",
        "        acc_meter.update(acc, len(img))\n",
        "        loss.backward()\n",
        "        optimizer.step()\n",
        "    scheduler.step()\n",
        "    print(f\"Train Epoch: {epoch}, Loss: {loss_meter.calculate()}, Acc: {acc_meter.calculate()}\")\n",
        "    if epoch % 10 == 0:\n",
        "        val_loss, val_acc = evaluate_cifar_model(model, criterion, val_dataloader)\n",
        "        print(f\"Val Epoch: {epoch}, Loss: {val_loss}, Acc: {val_acc}\")\n",
        "\n",
        "val_loss, val_acc = evaluate_cifar_model(model, criterion, val_dataloader)\n",
        "print(f\"Val Epoch: {epoch}, Loss: {val_loss}, Acc: {val_acc}\")\n",
        "print('Finished Training')"
      ],
      "id": "d69183ce"
    },
    {
      "cell_type": "markdown",
      "source": [
        "The Vision Transformer was trained on CIFAR-10 for 10 epochs using the default hyperparameters, achieving a final validation accuracy of **~60%**. Training accuracy improved significantly, reaching **87%** by the last epoch, indicating good learning progress throughout the training."
      ],
      "metadata": {
        "id": "v_-WoR3Gt1wD"
      },
      "id": "v_-WoR3Gt1wD"
    },
    {
      "cell_type": "markdown",
      "metadata": {
        "id": "22a64f80"
      },
      "source": [
        "# Part 3.D"
      ],
      "id": "22a64f80"
    },
    {
      "cell_type": "code",
      "execution_count": null,
      "metadata": {
        "id": "d90ecba6",
        "colab": {
          "base_uri": "https://localhost:8080/",
          "height": 186
        },
        "outputId": "8a073737-0c0c-490d-dd43-aee42cd27410"
      },
      "outputs": [
        {
          "output_type": "display_data",
          "data": {
            "text/plain": [
              "<Figure size 1000x200 with 20 Axes>"
            ],
            "image/png": "[encoded data removed]"
          },
          "metadata": {}
        }
      ],
      "source": [
        "for val_batch in val_dataloader:\n",
        "    break\n",
        "\n",
        "model.eval()\n",
        "with torch.no_grad():\n",
        "    img, labels = val_batch\n",
        "    img = img.cuda()\n",
        "    outputs, attns = model(img, return_attn=True)\n",
        "\n",
        "fig, ax = plt.subplots(2, 10, figsize=(10, 2))\n",
        "for i in range(10):\n",
        "    flattened_attns = attns.flatten(1,2)[:, :, 0, 1:].mean(1).reshape(-1, 8, 8).cpu().numpy() # if patch_size is 4\n",
        "    # flattened_attns = attns.flatten(1,2)[:, :, 0, 1:].mean(1).reshape(-1, 16, 16).cpu().numpy() # if patch_size is 2\n",
        "    ax[0, i].imshow(inv_transform(img[i]))\n",
        "    ax[1, i].imshow(flattened_attns[i])\n",
        "    ax[0, i].axis(False)\n",
        "    ax[1, i].axis(False)"
      ],
      "id": "d90ecba6"
    },
    {
      "cell_type": "code",
      "source": [
        "#@title .\n",
        "# ### My DEBUG Cell ###\n",
        "# attns.shape # (B, num_layers, num_heads, num_patches + 1, num_patches + 1)\n",
        "# attns.flatten(1,2).shape # (B, num_layers*num_heads, num_patches + 1, num_patches + 1)\n",
        "# attns.flatten(1,2)[:, :, 0, 1:].shape # (B, num_layers*num_heads, num_patches) # attention of cls_token onto image_patch tokens\n",
        "# attns.flatten(1,2)[:, :, 0, 1:].mean(1).shape # (B, num_patches) average across all heads and layers\n",
        "# attns.flatten(1,2)[:, :, 0, 1:].mean(1).reshape(-1, 8, 8).shape # (B, patch_size, patch_size) # reshape to how image was patched"
      ],
      "metadata": {
        "colab": {
          "base_uri": "https://localhost:8080/"
        },
        "id": "RN2J8ybN2Doy",
        "outputId": "d5a88eaa-5c35-4387-dd97-9864622d984e",
        "cellView": "form"
      },
      "id": "RN2J8ybN2Doy",
      "execution_count": null,
      "outputs": [
        {
          "output_type": "execute_result",
          "data": {
            "text/plain": [
              "torch.Size([256, 8, 8])"
            ]
          },
          "metadata": {},
          "execution_count": 23
        }
      ]
    },
    {
      "cell_type": "markdown",
      "source": [
        "### 3.(d)\n",
        "\n",
        "The heatmaps show that the transformer assigns higher attention weights to specific salient regions of the image, often focusing on key features like the head in animal images or distinctive parts of vehicles. This suggests the model is learning to attend to important regions for classification. Occasionally, attention is directed to the edges or corners, where relevance is less clear, but overall the model tends to focus correctly on the main objects."
      ],
      "metadata": {
        "id": "ltQk46lwxa15"
      },
      "id": "ltQk46lwxa15"
    },
    {
      "cell_type": "markdown",
      "source": [
        "![image.png](data:image/png;base64,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)\n",
        "\n",
        "---"
      ],
      "metadata": {
        "id": "3IhQyfk3BHgl"
      },
      "id": "3IhQyfk3BHgl"
    },
    {
      "cell_type": "markdown",
      "source": [
        "### 3.(e)\n",
        "\n",
        "- **Inductive biases (small vs. large datasets):** CNNs have strong inductive biases toward local spatial patterns (e.g., nearby pixels being related), which allows them to perform well on small datasets by leveraging these biases to generalize better. In contrast, ViTs rely on learning patterns globally through self-attention without such inductive biases, making them more data-hungry and requiring larger datasets to learn meaningful patterns effectively.\n",
        "\n",
        "- **Handling different image sizes (spatial structure vs. positional encoding):** CNNs naturally handle images of different sizes due to their inherent ability to capture spatial hierarchies using convolution and pooling operations. ViTs, on the other hand, rely on fixed positional encodings, which means they may struggle with different image sizes unless special techniques (like interpolation of positional encodings) are used to adjust for varying input dimensions.\n",
        "\n",
        "---"
      ],
      "metadata": {
        "id": "v3AjoqosBD3B"
      },
      "id": "v3AjoqosBD3B"
    },
    {
      "cell_type": "markdown",
      "metadata": {
        "id": "3096185a"
      },
      "source": [
        "# Problem 4: Dialogue GPT"
      ],
      "id": "3096185a"
    },
    {
      "cell_type": "code",
      "execution_count": null,
      "metadata": {
        "id": "lqR5H5044Xvr",
        "colab": {
          "base_uri": "https://localhost:8080/"
        },
        "outputId": "fcc6bb1f-497b-409f-d954-17bf9d498fa7"
      },
      "outputs": [
        {
          "output_type": "stream",
          "name": "stdout",
          "text": [
            "Requirement already satisfied: wget in /usr/local/lib/python3.10/dist-packages (3.2)\n"
          ]
        }
      ],
      "source": [
        "!pip install wget"
      ],
      "id": "lqR5H5044Xvr"
    },
    {
      "cell_type": "code",
      "execution_count": null,
      "metadata": {
        "id": "13a6fe8d"
      },
      "outputs": [],
      "source": [
        "import wget\n",
        "import os\n",
        "if not os.path.exists(\"input.txt\"):\n",
        "    wget.download(\"https://raw.githubusercontent.com/karpathy/char-rnn/master/data/tinyshakespeare/input.txt\")"
      ],
      "id": "13a6fe8d"
    },
    {
      "cell_type": "code",
      "execution_count": null,
      "metadata": {
        "id": "8c9133dc"
      },
      "outputs": [],
      "source": [
        "with open('input.txt', 'r') as f:\n",
        "    raw_text = f.read()\n",
        "all_dialogues = raw_text.split('\\n\\n')\n"
      ],
      "id": "8c9133dc"
    },
    {
      "cell_type": "code",
      "execution_count": null,
      "metadata": {
        "id": "8e2d6861",
        "colab": {
          "base_uri": "https://localhost:8080/"
        },
        "outputId": "d2f94c1c-7d70-4144-99cf-1d4eedf6cb65"
      },
      "outputs": [
        {
          "output_type": "stream",
          "name": "stderr",
          "text": [
            "[nltk_data] Downloading package punkt to /root/nltk_data...\n",
            "[nltk_data]   Package punkt is already up-to-date!\n"
          ]
        },
        {
          "output_type": "execute_result",
          "data": {
            "text/plain": [
              "True"
            ]
          },
          "metadata": {},
          "execution_count": 27
        }
      ],
      "source": [
        "import nltk\n",
        "from nltk.tokenize import word_tokenize\n",
        "nltk.download('punkt')"
      ],
      "id": "8e2d6861"
    },
    {
      "cell_type": "markdown",
      "metadata": {
        "id": "ccb804ff"
      },
      "source": [
        "## Part 4.A"
      ],
      "id": "ccb804ff"
    },
    {
      "cell_type": "code",
      "execution_count": null,
      "metadata": {
        "id": "20f26a57"
      },
      "outputs": [],
      "source": [
        "def tokenize(s):\n",
        "  return word_tokenize(s)\n",
        "\n",
        "class MyTokenizer:\n",
        "    def __init__(self, raw_text: str):\n",
        "        # raw_text     contains the text from which we will build our vocabulary\n",
        "\n",
        "        self.start = '<START>' # token that starts every example\n",
        "        self.pad = '<PAD>' # token used to pad examples to the same length\n",
        "        self.unk = '<UNK>' # token used if encountering a word not in our vocabulary\n",
        "\n",
        "        vocab = np.unique(tokenize(raw_text))\n",
        "        vocab = np.concatenate([np.array([self.start, self.pad, self.unk]), vocab])\n",
        "\n",
        "        self.vocab = vocab # array of tokens in order\n",
        "        self.tok_to_id = {w: i for i, w in enumerate(vocab)} # mapping of token to ID\n",
        "        self.vocab_size = len(self.vocab) # size of vocabulary\n",
        "\n",
        "    def encode(self, s: str) -> torch.Tensor:\n",
        "        # s           input string\n",
        "        #\n",
        "        # Output\n",
        "        # id_tensor   a tensor of token ids, starting with the start token.t\n",
        "\n",
        "        id_tensor = None\n",
        "\n",
        "        # TODO: tokenize the input using word_tokenize. Return a tensor\n",
        "        # of the token ids, starting with the token id for the start token.\n",
        "        # ============ ANSWER START ===========\n",
        "        tokens = [self.start] + tokenize(s)\n",
        "        # My NOTE: self.tok_to_id.get ensures correct handling of unknown tokens\n",
        "        id_tensor = torch.tensor([self.tok_to_id.get(tok, self.tok_to_id[self.unk]) for tok in tokens])\n",
        "        # ============ ANSWER END =============\n",
        "\n",
        "        return id_tensor\n",
        "\n",
        "    def decode(self, toks: torch.Tensor) -> str:\n",
        "        # toks         a list of token ids\n",
        "        #\n",
        "        # Output\n",
        "        # decoded_str  the token ids decoded back into a string (join with a space)\n",
        "\n",
        "        decoded_str = None\n",
        "\n",
        "        # TODO: convert the token ids back to the actual corresponding words.\n",
        "        # Join the tokens with a space and return the full string\n",
        "        # ============ ANSWER START ===========\n",
        "        id_to_tok = {v: k for k, v in self.tok_to_id.items()}\n",
        "        decoded_str = \" \".join([id_to_tok[id.item()] for id in toks])\n",
        "        # ============ ANSWER END =============\n",
        "\n",
        "        return decoded_str\n",
        "\n",
        "    def pad_examples(self, tok_list: List[torch.Tensor]) -> torch.Tensor:\n",
        "        # Pads the tensors to the right with the pad token so that they are the same length.\n",
        "        #\n",
        "        # tok_list       a list of tensors containing token ids (maybe of different lengths)\n",
        "        #\n",
        "        # Output\n",
        "        # padded_tokens  shape: (len(tok_list), max length within tok_list)\n",
        "        return torch.nn.utils.rnn.pad_sequence(tok_list, batch_first=True, padding_value=self.tok_to_id[self.pad])\n",
        "\n",
        "tok = MyTokenizer(raw_text)"
      ],
      "id": "20f26a57"
    },
    {
      "cell_type": "code",
      "source": [
        "#@title .\n",
        "# ### My DEBUG Cell ###\n",
        "# d = {'<START>': 0, '<PAD>': 1, '<UNK>': 2, \"hello\": 3}\n",
        "# rev_d = dict((v,k) for k,v in d.items())\n",
        "\n",
        "# toks = np.concatenate([np.array(['<START>', '<PAD>', '<UNK>']),\n",
        "#                 np.unique(tokenize(\"hello\"))])\n",
        "# print(toks)\n",
        "\n",
        "# ids = np.stack([d[tk] for tk in toks])\n",
        "# print(ids)\n",
        "\n",
        "# toks_re = \" \".join(np.array([rev_d[id] for id in ids]))\n",
        "# print(toks_re)"
      ],
      "metadata": {
        "id": "qndL8V5yINow",
        "cellView": "form"
      },
      "id": "qndL8V5yINow",
      "execution_count": null,
      "outputs": []
    },
    {
      "cell_type": "code",
      "execution_count": null,
      "metadata": {
        "id": "328863ef",
        "colab": {
          "base_uri": "https://localhost:8080/"
        },
        "outputId": "3bf4662f-0ba4-4e47-c44d-4f1caa7d6703"
      },
      "outputs": [
        {
          "output_type": "stream",
          "name": "stdout",
          "text": [
            "tensor([    0,  1599,  2188,  1487,   226,  2349, 12831,  1481,  5724,  3327,\n",
            "        12886,  6880,  8773,  9662,  7689,   224])\n",
            "<START> KING RICHARD III : Say that I did all this for love of her .\n"
          ]
        }
      ],
      "source": [
        "# tokenizer test cases\n",
        "input_string = 'KING RICHARD III:\\nSay that I did all this for love of her.'\n",
        "enc = tok.encode(input_string)\n",
        "print(enc)\n",
        "dec = tok.decode(enc)\n",
        "print(dec)\n",
        "assert dec == \"<START> KING RICHARD III : Say that I did all this for love of her .\""
      ],
      "id": "328863ef"
    },
    {
      "cell_type": "markdown",
      "metadata": {
        "id": "3359721d"
      },
      "source": [
        "# Part 4.B"
      ],
      "id": "3359721d"
    },
    {
      "cell_type": "code",
      "execution_count": null,
      "metadata": {
        "id": "60f07f0a"
      },
      "outputs": [],
      "source": [
        "class DialogueDataset:\n",
        "    def __init__(self, tokenizer: MyTokenizer, lines: List[str], max_N: int):\n",
        "        # tokenizer    an instance of MyTokenizer\n",
        "        # lines        a list of strings. each element in an example in the dataset\n",
        "        # max_N        the maximum number of tokens allowed per example. More than this will be truncated\n",
        "        self.lines = lines\n",
        "        self.tokenizer = tokenizer\n",
        "        self.max_N = max_N\n",
        "\n",
        "    def __len__(self) -> int:\n",
        "        return len(self.lines)\n",
        "\n",
        "    def __getitem__(self, idx: int) -> torch.Tensor:\n",
        "        # returns the example at int encoded by the tokenizer\n",
        "        # truncates the example if it is more than max_N tokens\n",
        "        return self.tokenizer.encode(self.lines[idx])[:self.max_N]\n",
        "\n",
        "def collate_fn(examples: List[torch.Tensor]):\n",
        "    # examples        a batch of tensors containing token ids (maybe of different lengths)\n",
        "    # Outputs a dictionary containing\n",
        "    #   input_ids     a single tensor with all of the examples padded (from the right) to the max\n",
        "    #                 length within the batch. shape:(B, max length within examples)\n",
        "    #   input_mask    a tensor indicating which tokens are padding and should be ignored. 0 if padding\n",
        "    #                 and 1 if not. shape: (B, max length within examples)\n",
        "    new_input_ids = tok.pad_examples(examples)\n",
        "    attn_mask = torch.ones(new_input_ids.shape)\n",
        "    attn_mask[new_input_ids == tok.tok_to_id[tok.pad]] = 0\n",
        "    return {'input_ids': tok.pad_examples(examples), 'input_mask': attn_mask}\n",
        "\n",
        "ds = DialogueDataset(tok, all_dialogues, max_N=200)\n",
        "training_dl = torch.utils.data.DataLoader(ds, batch_size=64, collate_fn=collate_fn)"
      ],
      "id": "60f07f0a"
    },
    {
      "cell_type": "markdown",
      "source": [
        "#### extra info\n",
        "\n",
        "<!-- How the `DialogueDataset` and data loader work:\n",
        "\n",
        "### `DialogueDataset`:\n",
        "- This class is responsible for preparing the dataset of tokenized dialogue lines.\n",
        "- It takes a tokenizer (`MyTokenizer`), a list of dialogue lines (`lines`), and a maximum number of tokens per example (`max_N`).\n",
        "- The `__len__` method returns the number of examples in the dataset (i.e., the number of dialogue lines).\n",
        "- The `__getitem__` method retrieves the tokenized version of a specific dialogue line using the tokenizer’s `encode` function. If the tokenized line exceeds `max_N` tokens, it truncates it to that length.\n",
        "\n",
        "### `collate_fn`:\n",
        "- This function is called during batch loading. It takes a list of tokenized examples (each a tensor of different lengths) and:\n",
        "  1. Pads the examples to ensure that all sequences in the batch have the same length (equal to the longest sequence in the batch). This is done using the `pad_examples` method, padding on the right side with `<PAD>`.\n",
        "  2. Creates an attention mask (`input_mask`) where 1 indicates a real token and 0 indicates padding. This mask ensures the model ignores padding tokens during training.\n",
        "  3. Returns a dictionary containing:\n",
        "     - `input_ids`: the batch of padded input tokens (shape: `[batch_size, max_length]`).\n",
        "     - `input_mask`: the corresponding attention mask (shape: `[batch_size, max_length]`).\n",
        "\n",
        "### Data Loader:\n",
        "- The `DialogueDataset` is passed into `torch.utils.data.DataLoader`, which handles batching of the data.\n",
        "- The `collate_fn` ensures that each batch is padded properly and returns both the input IDs and the attention mask for training. This padding ensures efficient batch processing and consistent sequence lengths within each batch. -->"
      ],
      "metadata": {
        "id": "UMaOakvaXPwI"
      },
      "id": "UMaOakvaXPwI"
    },
    {
      "cell_type": "code",
      "execution_count": null,
      "metadata": {
        "id": "930c4fde",
        "colab": {
          "base_uri": "https://localhost:8080/"
        },
        "outputId": "351ee238-8b36-4ca9-97a6-07c68a20e24e"
      },
      "outputs": [
        {
          "output_type": "stream",
          "name": "stdout",
          "text": [
            "{'input_ids': tensor([[   0, 1155,  712,  ...,    1,    1,    1],\n",
            "        [   0,  326,  226,  ...,    1,    1,    1],\n",
            "        [   0, 1155,  712,  ...,    1,    1,    1],\n",
            "        ...,\n",
            "        [   0, 1739,  226,  ...,    1,    1,    1],\n",
            "        [   0, 1155, 2391,  ...,    1,    1,    1],\n",
            "        [   0, 1739,  226,  ...,    1,    1,    1]]), 'input_mask': tensor([[1., 1., 1.,  ..., 0., 0., 0.],\n",
            "        [1., 1., 1.,  ..., 0., 0., 0.],\n",
            "        [1., 1., 1.,  ..., 0., 0., 0.],\n",
            "        ...,\n",
            "        [1., 1., 1.,  ..., 0., 0., 0.],\n",
            "        [1., 1., 1.,  ..., 0., 0., 0.],\n",
            "        [1., 1., 1.,  ..., 0., 0., 0.]])}\n"
          ]
        }
      ],
      "source": [
        "# take a look at an example of an element from the training dataloader\n",
        "for batch in training_dl:\n",
        "    print(batch)\n",
        "    break"
      ],
      "id": "930c4fde"
    },
    {
      "cell_type": "markdown",
      "metadata": {
        "id": "f980fc7d"
      },
      "source": [
        "## Part 4.C"
      ],
      "id": "f980fc7d"
    },
    {
      "cell_type": "code",
      "source": [
        "embs = torch.ones((32, 100, 128))\n",
        "B, T, _ = embs.shape\n",
        "pos_ids = torch.arange(T).expand(B, -1)\n",
        "print(pos_ids)\n",
        "pos_E = nn.Embedding(200, 128)\n",
        "print(pos_E)\n",
        "pos_E(pos_ids).shape"
      ],
      "metadata": {
        "id": "D3KyNSu_aKqC",
        "colab": {
          "base_uri": "https://localhost:8080/"
        },
        "outputId": "308c355c-1cee-41e7-bfe9-b10ee41400e0"
      },
      "id": "D3KyNSu_aKqC",
      "execution_count": null,
      "outputs": [
        {
          "output_type": "stream",
          "name": "stdout",
          "text": [
            "tensor([[ 0,  1,  2,  ..., 97, 98, 99],\n",
            "        [ 0,  1,  2,  ..., 97, 98, 99],\n",
            "        [ 0,  1,  2,  ..., 97, 98, 99],\n",
            "        ...,\n",
            "        [ 0,  1,  2,  ..., 97, 98, 99],\n",
            "        [ 0,  1,  2,  ..., 97, 98, 99],\n",
            "        [ 0,  1,  2,  ..., 97, 98, 99]])\n",
            "Embedding(200, 128)\n"
          ]
        },
        {
          "output_type": "execute_result",
          "data": {
            "text/plain": [
              "torch.Size([32, 100, 128])"
            ]
          },
          "metadata": {},
          "execution_count": 34
        }
      ]
    },
    {
      "cell_type": "code",
      "execution_count": null,
      "metadata": {
        "id": "f37a893a"
      },
      "outputs": [],
      "source": [
        "class DialogueGPT(nn.Module):\n",
        "    def __init__(self, vocab_size: int, max_N: int, dim: int, attn_dim: int, mlp_dim: int, num_heads: int, num_layers: int):\n",
        "        # vocab_size       size of the vocabulary\n",
        "        # max_N            maximum number of tokens allowed to appear in 1 example\n",
        "        # dim              embedding dimension\n",
        "        # attn_dim         the hidden dimension of the attention layer\n",
        "        # mlp_dim          the hidden layer dimension of the FFN\n",
        "        # num_heads        the number of heads in the attention layer\n",
        "        # num_layers       the number of attention layers.\n",
        "\n",
        "        super().__init__()\n",
        "\n",
        "        # TODO: set up the token embedding and positional embeddings\n",
        "        #       Hint, use nn.Embedding\n",
        "        # ============ ANSWER START ============\n",
        "        self.token_embedding_table = nn.Embedding(vocab_size, dim)\n",
        "        self.position_embedding_table = nn.Embedding(max_N, dim)\n",
        "        # ============ ANSWER END ==============\n",
        "\n",
        "        self.transformer = Transformer(\n",
        "            dim=dim, attn_dim=attn_dim, mlp_dim=mlp_dim, num_heads=num_heads, num_layers=num_layers)\n",
        "\n",
        "        self.head = nn.Sequential(\n",
        "            nn.LayerNorm(dim),\n",
        "            nn.Linear(dim, vocab_size)\n",
        "        )\n",
        "\n",
        "    def forward(self, input_ids: torch.Tensor, return_attn=False) -> Tuple[torch.Tensor, Optional[torch.Tensor]]:\n",
        "        # input_ids     a batch of input ids (right padded). shape: (B x T)\n",
        "        # return_attn   whether to return the attention weights\n",
        "        #\n",
        "        # Output\n",
        "        # out           the logit vector (B x T x V)\n",
        "        # alphas        the attention weights if return_attn is True. Otherwise None shape: (B, num_layers, num_heads, T, T)\n",
        "\n",
        "        embs = None\n",
        "\n",
        "        # TODO: retrieve the token embeddings for the input_ids.\n",
        "        #       Add to the token embeddings the positional embeddings.\n",
        "        #       Store the combined embedding in embs\n",
        "        # ============ ANSWER START ============\n",
        "        # My NOTE: C = dim, len(input_ids) = B\n",
        "        B, T = input_ids.shape  # Get batch size (B) and sequence length (T)\n",
        "        pos_ids = torch.arange(T).expand(B, -1).to(input_ids.device)\n",
        "        tok_embs = self.token_embedding_table(input_ids) # shape: (B, T, C)\n",
        "        pos_embs = self.position_embedding_table(pos_ids) # shape: (B, T, C)\n",
        "        embs = tok_embs + pos_embs\n",
        "        # ============ ANSWER END ============\n",
        "\n",
        "        causal_attn_mask = None\n",
        "\n",
        "        # TODO: Create the causal attention mask, which should be of size (B, T, T)\n",
        "        #       Remember that the causal attention mask is lower triangular (all tokens only\n",
        "        #       depend on themselves and the tokens before them).\n",
        "        #.      Store the mask in causal_attn_mask\n",
        "        # Hint: check out torch.tril\n",
        "        # ============ ANSWER START ============\n",
        "        causal_attn_mask = torch.tril(torch.ones(T, T).expand(B, -1, -1)).to(input_ids.device)\n",
        "        # ============ ANSWER END ==============\n",
        "\n",
        "        x, alphas = self.transformer(embs, attn_mask=causal_attn_mask, return_attn=return_attn)\n",
        "        out = self.head(x)\n",
        "        return out, alphas\n",
        "\n",
        "    def generate(self, input_ids, num_tokens):\n",
        "        # you can assume batch size 1\n",
        "        with torch.no_grad():\n",
        "            for i in range(num_tokens):\n",
        "                out, _ = self.forward(input_ids)\n",
        "                new_token = torch.argmax(out[:, [-1]], -1)\n",
        "                input_ids = torch.cat([input_ids, new_token], dim=1)\n",
        "        return input_ids\n"
      ],
      "id": "f37a893a"
    },
    {
      "cell_type": "markdown",
      "metadata": {
        "id": "a8b5f097"
      },
      "source": [
        "## Part 4.D"
      ],
      "id": "a8b5f097"
    },
    {
      "cell_type": "code",
      "execution_count": null,
      "metadata": {
        "id": "a91f3300"
      },
      "outputs": [],
      "source": [
        "class DialogueLoss(nn.Module):\n",
        "    def __init__(self):\n",
        "        super().__init__()\n",
        "        self.criterion = nn.CrossEntropyLoss(reduction='none')\n",
        "\n",
        "    def forward(self, logits: torch.Tensor, input_ids: torch.Tensor, inp_mask: torch.Tensor):\n",
        "        # logits      the logits produced by DialogueGPT. shape: B x T x V\n",
        "        # input_ids   the token ids. shape: B x T\n",
        "        # inp_mask    a 0/1 mask of which tokens are padding tokens and should be ignored. shape: B x T\n",
        "\n",
        "        # TODO: Implement the language model loss. For logits[i], we want to supervise the i+1 token_id\n",
        "        # with the cross entropy loss. We thus will not supervise the start token (input_ids[0]) or use\n",
        "        # the last logit vector (logits[-1]). Return the average of the losses for each token in the batch,\n",
        "        # making sure to ignore tokens corresponding to the padding (use inp_mask).\n",
        "\n",
        "        # ============ ANSWER START ============\n",
        "        B, T, V = logits.shape\n",
        "        # Get logits for predicting the next token (ignoring last logit)\n",
        "        logits = logits[:, :-1, :].reshape(-1, V)  # shape: (B*(T-1), V)\n",
        "        # Get target tokens (ignoring first token)\n",
        "        targets = input_ids[:, 1:].reshape(-1)  # shape: (B*(T-1))\n",
        "        # Compute loss for each token\n",
        "        losses = self.criterion(logits, targets)  # shape: (B*(T-1))\n",
        "        # Apply mask (ignoring padding tokens) and compute the mean loss\n",
        "        mask = inp_mask[:, 1:].reshape(-1).to(losses.dtype)  # mask for valid tokens\n",
        "        loss = (losses * mask).sum() / mask.sum()\n",
        "        # ============ ANSWER END ==============\n",
        "        return loss"
      ],
      "id": "a91f3300"
    },
    {
      "cell_type": "markdown",
      "source": [
        "### 4.(e)\n",
        "\n",
        "Generating $T$ tokens is slower because during generation, tokens are generated one by one in an autoregressive manner. Each step requires a full forward pass through the model to compute the next token, whereas during training, all tokens in the sequence can be processed simultaneously in parallel. The sequential nature of generation prevents parallelization, making it slower.\n",
        "\n",
        "---"
      ],
      "metadata": {
        "id": "kYiFQOFf4vFP"
      },
      "id": "kYiFQOFf4vFP"
    },
    {
      "cell_type": "markdown",
      "metadata": {
        "id": "fa39592a"
      },
      "source": [
        "## Part 4.F"
      ],
      "id": "fa39592a"
    },
    {
      "cell_type": "code",
      "execution_count": null,
      "metadata": {
        "id": "06e5b68b"
      },
      "outputs": [],
      "source": [
        "import torch.optim as optim\n",
        "\n",
        "model = DialogueGPT(vocab_size=tok.vocab_size, max_N=200, dim=128, attn_dim=64, mlp_dim=128, num_heads=3, num_layers=6).cuda()\n",
        "criterion = DialogueLoss()\n",
        "\n",
        "NUM_EPOCHS = 80\n",
        "\n",
        "\n",
        "optimizer = optim.AdamW(model.parameters(), lr=0.0001, weight_decay=0) # implement in homework\n",
        "scheduler = optim.lr_scheduler.CosineAnnealingLR(optimizer, T_max=NUM_EPOCHS)\n"
      ],
      "id": "06e5b68b"
    },
    {
      "cell_type": "code",
      "execution_count": null,
      "metadata": {
        "id": "63c72fb2",
        "colab": {
          "base_uri": "https://localhost:8080/"
        },
        "outputId": "d6a272c4-3904-4f8f-f4e9-36a497a966a7"
      },
      "outputs": [
        {
          "output_type": "stream",
          "name": "stderr",
          "text": [
            "100%|██████████| 113/113 [00:07<00:00, 15.92it/s]\n"
          ]
        },
        {
          "output_type": "stream",
          "name": "stdout",
          "text": [
            "<START> : : , , , , , , , ,\n",
            "Train Epoch: 0, Loss: 8.4291, LR: 9.996145181203615e-05\n"
          ]
        },
        {
          "output_type": "stream",
          "name": "stderr",
          "text": [
            "100%|██████████| 113/113 [00:06<00:00, 17.23it/s]\n"
          ]
        },
        {
          "output_type": "stream",
          "name": "stdout",
          "text": [
            "<START> : : , , , , , , , ,\n",
            "Train Epoch: 1, Loss: 7.0261, LR: 9.98458666866564e-05\n"
          ]
        },
        {
          "output_type": "stream",
          "name": "stderr",
          "text": [
            "100%|██████████| 113/113 [00:06<00:00, 17.06it/s]\n"
          ]
        },
        {
          "output_type": "stream",
          "name": "stdout",
          "text": [
            "<START> : : , , , , , , , ,\n",
            "Train Epoch: 2, Loss: 6.5020, LR: 9.965342284774632e-05\n"
          ]
        },
        {
          "output_type": "stream",
          "name": "stderr",
          "text": [
            "100%|██████████| 113/113 [00:06<00:00, 17.07it/s]\n"
          ]
        },
        {
          "output_type": "stream",
          "name": "stdout",
          "text": [
            "<START> : : , , , , , , , ,\n",
            "Train Epoch: 3, Loss: 6.3644, LR: 9.938441702975689e-05\n"
          ]
        },
        {
          "output_type": "stream",
          "name": "stderr",
          "text": [
            "100%|██████████| 113/113 [00:06<00:00, 17.30it/s]\n"
          ]
        },
        {
          "output_type": "stream",
          "name": "stdout",
          "text": [
            "<START> : : I , , , , I , I\n",
            "Train Epoch: 4, Loss: 6.2821, LR: 9.903926402016153e-05\n"
          ]
        },
        {
          "output_type": "stream",
          "name": "stderr",
          "text": [
            "100%|██████████| 113/113 [00:06<00:00, 16.94it/s]\n"
          ]
        },
        {
          "output_type": "stream",
          "name": "stdout",
          "text": [
            "<START> : : I , , I , I , I\n",
            "Train Epoch: 5, Loss: 6.1973, LR: 9.861849601988383e-05\n"
          ]
        },
        {
          "output_type": "stream",
          "name": "stderr",
          "text": [
            "100%|██████████| 113/113 [00:06<00:00, 17.13it/s]\n"
          ]
        },
        {
          "output_type": "stream",
          "name": "stdout",
          "text": [
            "<START> KING : I , I , I , I ,\n",
            "Train Epoch: 6, Loss: 6.1180, LR: 9.812276182268236e-05\n"
          ]
        },
        {
          "output_type": "stream",
          "name": "stderr",
          "text": [
            "100%|██████████| 113/113 [00:06<00:00, 17.61it/s]\n"
          ]
        },
        {
          "output_type": "stream",
          "name": "stdout",
          "text": [
            "<START> KING : I 'll , I , I , I\n",
            "Train Epoch: 7, Loss: 6.0431, LR: 9.755282581475769e-05\n"
          ]
        },
        {
          "output_type": "stream",
          "name": "stderr",
          "text": [
            "100%|██████████| 113/113 [00:06<00:00, 17.43it/s]\n"
          ]
        },
        {
          "output_type": "stream",
          "name": "stdout",
          "text": [
            "<START> KING : I 'll , I 'll . I 'll\n",
            "Train Epoch: 8, Loss: 5.9717, LR: 9.690956679612421e-05\n"
          ]
        },
        {
          "output_type": "stream",
          "name": "stderr",
          "text": [
            "100%|██████████| 113/113 [00:06<00:00, 17.26it/s]\n"
          ]
        },
        {
          "output_type": "stream",
          "name": "stdout",
          "text": [
            "<START> KING : I 'll , I 'll , I 'll\n",
            "Train Epoch: 9, Loss: 5.9033, LR: 9.619397662556433e-05\n"
          ]
        },
        {
          "output_type": "stream",
          "name": "stderr",
          "text": [
            "100%|██████████| 113/113 [00:06<00:00, 17.44it/s]\n"
          ]
        },
        {
          "output_type": "stream",
          "name": "stdout",
          "text": [
            "<START> KING : I 'll , I 'll the king .\n",
            "Train Epoch: 10, Loss: 5.8417, LR: 9.540715869125406e-05\n"
          ]
        },
        {
          "output_type": "stream",
          "name": "stderr",
          "text": [
            "100%|██████████| 113/113 [00:06<00:00, 17.61it/s]\n"
          ]
        },
        {
          "output_type": "stream",
          "name": "stdout",
          "text": [
            "<START> KING : I 'll , I 'll a lord ,\n",
            "Train Epoch: 11, Loss: 5.7846, LR: 9.455032620941839e-05\n"
          ]
        },
        {
          "output_type": "stream",
          "name": "stderr",
          "text": [
            "100%|██████████| 113/113 [00:06<00:00, 17.36it/s]\n"
          ]
        },
        {
          "output_type": "stream",
          "name": "stdout",
          "text": [
            "<START> KING RICHARD III : I 'll be the king .\n",
            "Train Epoch: 12, Loss: 5.7339, LR: 9.362480035363986e-05\n"
          ]
        },
        {
          "output_type": "stream",
          "name": "stderr",
          "text": [
            "100%|██████████| 113/113 [00:06<00:00, 17.57it/s]\n"
          ]
        },
        {
          "output_type": "stream",
          "name": "stdout",
          "text": [
            "<START> KING RICHARD III : I 'll be the king .\n",
            "Train Epoch: 13, Loss: 5.6884, LR: 9.263200821770461e-05\n"
          ]
        },
        {
          "output_type": "stream",
          "name": "stderr",
          "text": [
            "100%|██████████| 113/113 [00:06<00:00, 17.45it/s]\n"
          ]
        },
        {
          "output_type": "stream",
          "name": "stdout",
          "text": [
            "<START> DUKE VINCENTIO : I 'll you , I 'll be\n",
            "Train Epoch: 14, Loss: 5.6466, LR: 9.157348061512727e-05\n"
          ]
        },
        {
          "output_type": "stream",
          "name": "stderr",
          "text": [
            "100%|██████████| 113/113 [00:06<00:00, 17.42it/s]\n"
          ]
        },
        {
          "output_type": "stream",
          "name": "stdout",
          "text": [
            "<START> DUKE VINCENTIO : I 'll be you , I am\n",
            "Train Epoch: 15, Loss: 5.6083, LR: 9.045084971874738e-05\n"
          ]
        },
        {
          "output_type": "stream",
          "name": "stderr",
          "text": [
            "100%|██████████| 113/113 [00:06<00:00, 17.36it/s]\n"
          ]
        },
        {
          "output_type": "stream",
          "name": "stdout",
          "text": [
            "<START> DUKE VINCENTIO : I 'll have you , I am\n",
            "Train Epoch: 16, Loss: 5.5738, LR: 8.926584654403724e-05\n"
          ]
        },
        {
          "output_type": "stream",
          "name": "stderr",
          "text": [
            "100%|██████████| 113/113 [00:06<00:00, 17.48it/s]\n"
          ]
        },
        {
          "output_type": "stream",
          "name": "stdout",
          "text": [
            "<START> DUKE VINCENTIO : I 'll have you , I am\n",
            "Train Epoch: 17, Loss: 5.5417, LR: 8.802029828000156e-05\n"
          ]
        },
        {
          "output_type": "stream",
          "name": "stderr",
          "text": [
            "100%|██████████| 113/113 [00:06<00:00, 17.60it/s]\n"
          ]
        },
        {
          "output_type": "stream",
          "name": "stdout",
          "text": [
            "<START> DUKE VINCENTIO : I 'll have you , I am\n",
            "Train Epoch: 18, Loss: 5.5130, LR: 8.671612547178429e-05\n"
          ]
        },
        {
          "output_type": "stream",
          "name": "stderr",
          "text": [
            "100%|██████████| 113/113 [00:06<00:00, 17.34it/s]\n"
          ]
        },
        {
          "output_type": "stream",
          "name": "stdout",
          "text": [
            "<START> DUKE VINCENTIO : I 'll have you , I am\n",
            "Train Epoch: 19, Loss: 5.4842, LR: 8.535533905932738e-05\n"
          ]
        },
        {
          "output_type": "stream",
          "name": "stderr",
          "text": [
            "100%|██████████| 113/113 [00:06<00:00, 17.62it/s]\n"
          ]
        },
        {
          "output_type": "stream",
          "name": "stdout",
          "text": [
            "<START> DUKE VINCENTIO : I 'll have you , I am\n",
            "Train Epoch: 20, Loss: 5.4564, LR: 8.39400372766471e-05\n"
          ]
        },
        {
          "output_type": "stream",
          "name": "stderr",
          "text": [
            "100%|██████████| 113/113 [00:06<00:00, 17.55it/s]\n"
          ]
        },
        {
          "output_type": "stream",
          "name": "stdout",
          "text": [
            "<START> KING EDWARD IV : What , sir , I 'll\n",
            "Train Epoch: 21, Loss: 5.4295, LR: 8.247240241650919e-05\n"
          ]
        },
        {
          "output_type": "stream",
          "name": "stderr",
          "text": [
            "100%|██████████| 113/113 [00:06<00:00, 17.41it/s]\n"
          ]
        },
        {
          "output_type": "stream",
          "name": "stdout",
          "text": [
            "<START> KING RICHARD III : What , sir , I will\n",
            "Train Epoch: 22, Loss: 5.4037, LR: 8.095469746549169e-05\n"
          ]
        },
        {
          "output_type": "stream",
          "name": "stderr",
          "text": [
            "100%|██████████| 113/113 [00:06<00:00, 17.40it/s]\n"
          ]
        },
        {
          "output_type": "stream",
          "name": "stdout",
          "text": [
            "<START> KING RICHARD III : What , sir , I will\n",
            "Train Epoch: 23, Loss: 5.3793, LR: 7.938926261462365e-05\n"
          ]
        },
        {
          "output_type": "stream",
          "name": "stderr",
          "text": [
            "100%|██████████| 113/113 [00:06<00:00, 17.57it/s]\n"
          ]
        },
        {
          "output_type": "stream",
          "name": "stdout",
          "text": [
            "<START> KING RICHARD III : What , sir , I will\n",
            "Train Epoch: 24, Loss: 5.3561, LR: 7.77785116509801e-05\n"
          ]
        },
        {
          "output_type": "stream",
          "name": "stderr",
          "text": [
            "100%|██████████| 113/113 [00:06<00:00, 17.29it/s]\n"
          ]
        },
        {
          "output_type": "stream",
          "name": "stdout",
          "text": [
            "<START> KING RICHARD III : What , sir , I will\n",
            "Train Epoch: 25, Loss: 5.3333, LR: 7.612492823579744e-05\n"
          ]
        },
        {
          "output_type": "stream",
          "name": "stderr",
          "text": [
            "100%|██████████| 113/113 [00:06<00:00, 17.30it/s]\n"
          ]
        },
        {
          "output_type": "stream",
          "name": "stdout",
          "text": [
            "<START> KING RICHARD III : What , sir , I will\n",
            "Train Epoch: 26, Loss: 5.3113, LR: 7.443106207484775e-05\n"
          ]
        },
        {
          "output_type": "stream",
          "name": "stderr",
          "text": [
            "100%|██████████| 113/113 [00:06<00:00, 17.45it/s]\n"
          ]
        },
        {
          "output_type": "stream",
          "name": "stdout",
          "text": [
            "<START> KING EDWARD IV : Why , sir , I am\n",
            "Train Epoch: 27, Loss: 5.2898, LR: 7.269952498697733e-05\n"
          ]
        },
        {
          "output_type": "stream",
          "name": "stderr",
          "text": [
            "100%|██████████| 113/113 [00:06<00:00, 17.27it/s]\n"
          ]
        },
        {
          "output_type": "stream",
          "name": "stdout",
          "text": [
            "<START> KING EDWARD IV : Why , sir , I am\n",
            "Train Epoch: 28, Loss: 5.2693, LR: 7.093298687687139e-05\n"
          ]
        },
        {
          "output_type": "stream",
          "name": "stderr",
          "text": [
            "100%|██████████| 113/113 [00:06<00:00, 17.39it/s]\n"
          ]
        },
        {
          "output_type": "stream",
          "name": "stdout",
          "text": [
            "<START> KING EDWARD IV : Why , sir , I am\n",
            "Train Epoch: 29, Loss: 5.2497, LR: 6.913417161825447e-05\n"
          ]
        },
        {
          "output_type": "stream",
          "name": "stderr",
          "text": [
            "100%|██████████| 113/113 [00:06<00:00, 17.18it/s]\n"
          ]
        },
        {
          "output_type": "stream",
          "name": "stdout",
          "text": [
            "<START> KING EDWARD IV : Why , sir , I am\n",
            "Train Epoch: 30, Loss: 5.2308, LR: 6.730585285387463e-05\n"
          ]
        },
        {
          "output_type": "stream",
          "name": "stderr",
          "text": [
            "100%|██████████| 113/113 [00:06<00:00, 17.29it/s]\n"
          ]
        },
        {
          "output_type": "stream",
          "name": "stdout",
          "text": [
            "<START> KING EDWARD IV : Why , sir , I am\n",
            "Train Epoch: 31, Loss: 5.2126, LR: 6.545084971874736e-05\n"
          ]
        },
        {
          "output_type": "stream",
          "name": "stderr",
          "text": [
            "100%|██████████| 113/113 [00:06<00:00, 17.30it/s]\n"
          ]
        },
        {
          "output_type": "stream",
          "name": "stdout",
          "text": [
            "<START> KING EDWARD IV : Why , sir , I am\n",
            "Train Epoch: 32, Loss: 5.1951, LR: 6.35720224932537e-05\n"
          ]
        },
        {
          "output_type": "stream",
          "name": "stderr",
          "text": [
            "100%|██████████| 113/113 [00:06<00:00, 17.35it/s]\n"
          ]
        },
        {
          "output_type": "stream",
          "name": "stdout",
          "text": [
            "<START> KING EDWARD IV : Why , sir , I am\n",
            "Train Epoch: 33, Loss: 5.1784, LR: 6.167226819279526e-05\n"
          ]
        },
        {
          "output_type": "stream",
          "name": "stderr",
          "text": [
            "100%|██████████| 113/113 [00:06<00:00, 17.39it/s]\n"
          ]
        },
        {
          "output_type": "stream",
          "name": "stdout",
          "text": [
            "<START> KING EDWARD IV : Why , sir , I am\n",
            "Train Epoch: 34, Loss: 5.1622, LR: 5.97545161008064e-05\n"
          ]
        },
        {
          "output_type": "stream",
          "name": "stderr",
          "text": [
            "100%|██████████| 113/113 [00:06<00:00, 17.42it/s]\n"
          ]
        },
        {
          "output_type": "stream",
          "name": "stdout",
          "text": [
            "<START> KING EDWARD IV : Why , sir , I am\n",
            "Train Epoch: 35, Loss: 5.1471, LR: 5.782172325201153e-05\n"
          ]
        },
        {
          "output_type": "stream",
          "name": "stderr",
          "text": [
            "100%|██████████| 113/113 [00:06<00:00, 17.55it/s]\n"
          ]
        },
        {
          "output_type": "stream",
          "name": "stdout",
          "text": [
            "<START> KING EDWARD IV : Why , sir , I am\n",
            "Train Epoch: 36, Loss: 5.1320, LR: 5.587686987289187e-05\n"
          ]
        },
        {
          "output_type": "stream",
          "name": "stderr",
          "text": [
            "100%|██████████| 113/113 [00:06<00:00, 17.41it/s]\n"
          ]
        },
        {
          "output_type": "stream",
          "name": "stdout",
          "text": [
            "<START> KING EDWARD IV : Why , sir , I am\n",
            "Train Epoch: 37, Loss: 5.1171, LR: 5.392295478639223e-05\n"
          ]
        },
        {
          "output_type": "stream",
          "name": "stderr",
          "text": [
            "100%|██████████| 113/113 [00:06<00:00, 17.48it/s]\n"
          ]
        },
        {
          "output_type": "stream",
          "name": "stdout",
          "text": [
            "<START> KING RICHARD III : I 'll not my lord .\n",
            "Train Epoch: 38, Loss: 5.1023, LR: 5.196299078795341e-05\n"
          ]
        },
        {
          "output_type": "stream",
          "name": "stderr",
          "text": [
            "100%|██████████| 113/113 [00:06<00:00, 17.17it/s]\n"
          ]
        },
        {
          "output_type": "stream",
          "name": "stdout",
          "text": [
            "<START> KING RICHARD III : I 'll not my lord .\n",
            "Train Epoch: 39, Loss: 5.0881, LR: 4.999999999999998e-05\n"
          ]
        },
        {
          "output_type": "stream",
          "name": "stderr",
          "text": [
            "100%|██████████| 113/113 [00:06<00:00, 17.51it/s]\n"
          ]
        },
        {
          "output_type": "stream",
          "name": "stdout",
          "text": [
            "<START> KING RICHARD III : I 'll not my lord .\n",
            "Train Epoch: 40, Loss: 5.0752, LR: 4.8037009212046566e-05\n"
          ]
        },
        {
          "output_type": "stream",
          "name": "stderr",
          "text": [
            "100%|██████████| 113/113 [00:06<00:00, 17.38it/s]\n"
          ]
        },
        {
          "output_type": "stream",
          "name": "stdout",
          "text": [
            "<START> KING RICHARD III : I 'll not my lord .\n",
            "Train Epoch: 41, Loss: 5.0613, LR: 4.6077045213607746e-05\n"
          ]
        },
        {
          "output_type": "stream",
          "name": "stderr",
          "text": [
            "100%|██████████| 113/113 [00:06<00:00, 17.51it/s]\n"
          ]
        },
        {
          "output_type": "stream",
          "name": "stdout",
          "text": [
            "<START> KING RICHARD III : Why , I am I am\n",
            "Train Epoch: 42, Loss: 5.0487, LR: 4.4123130127108115e-05\n"
          ]
        },
        {
          "output_type": "stream",
          "name": "stderr",
          "text": [
            "100%|██████████| 113/113 [00:06<00:00, 17.49it/s]\n"
          ]
        },
        {
          "output_type": "stream",
          "name": "stdout",
          "text": [
            "<START> KING RICHARD III : Why , I am I am\n",
            "Train Epoch: 43, Loss: 5.0364, LR: 4.217827674798846e-05\n"
          ]
        },
        {
          "output_type": "stream",
          "name": "stderr",
          "text": [
            "100%|██████████| 113/113 [00:06<00:00, 17.27it/s]\n"
          ]
        },
        {
          "output_type": "stream",
          "name": "stdout",
          "text": [
            "<START> KING RICHARD III : Why , I am I am\n",
            "Train Epoch: 44, Loss: 5.0248, LR: 4.024548389919358e-05\n"
          ]
        },
        {
          "output_type": "stream",
          "name": "stderr",
          "text": [
            "100%|██████████| 113/113 [00:06<00:00, 17.58it/s]\n"
          ]
        },
        {
          "output_type": "stream",
          "name": "stdout",
          "text": [
            "<START> KING RICHARD III : Why , I am I am\n",
            "Train Epoch: 45, Loss: 5.0138, LR: 3.832773180720473e-05\n"
          ]
        },
        {
          "output_type": "stream",
          "name": "stderr",
          "text": [
            "100%|██████████| 113/113 [00:06<00:00, 17.41it/s]\n"
          ]
        },
        {
          "output_type": "stream",
          "name": "stdout",
          "text": [
            "<START> KING RICHARD III : Why , I am I am\n",
            "Train Epoch: 46, Loss: 5.0034, LR: 3.642797750674627e-05\n"
          ]
        },
        {
          "output_type": "stream",
          "name": "stderr",
          "text": [
            "100%|██████████| 113/113 [00:06<00:00, 17.45it/s]\n"
          ]
        },
        {
          "output_type": "stream",
          "name": "stdout",
          "text": [
            "<START> KING RICHARD III : Why , I am I am\n",
            "Train Epoch: 47, Loss: 4.9935, LR: 3.454915028125263e-05\n"
          ]
        },
        {
          "output_type": "stream",
          "name": "stderr",
          "text": [
            "100%|██████████| 113/113 [00:06<00:00, 17.48it/s]\n"
          ]
        },
        {
          "output_type": "stream",
          "name": "stdout",
          "text": [
            "<START> KING RICHARD III : Why , I am I am\n",
            "Train Epoch: 48, Loss: 4.9842, LR: 3.269414714612536e-05\n"
          ]
        },
        {
          "output_type": "stream",
          "name": "stderr",
          "text": [
            "100%|██████████| 113/113 [00:06<00:00, 17.43it/s]\n"
          ]
        },
        {
          "output_type": "stream",
          "name": "stdout",
          "text": [
            "<START> KING RICHARD III : Why , I am I am\n",
            "Train Epoch: 49, Loss: 4.9753, LR: 3.086582838174551e-05\n"
          ]
        },
        {
          "output_type": "stream",
          "name": "stderr",
          "text": [
            "100%|██████████| 113/113 [00:06<00:00, 17.73it/s]\n"
          ]
        },
        {
          "output_type": "stream",
          "name": "stdout",
          "text": [
            "<START> KING RICHARD III : Why , I am I am\n",
            "Train Epoch: 50, Loss: 4.9670, LR: 2.9067013123128613e-05\n"
          ]
        },
        {
          "output_type": "stream",
          "name": "stderr",
          "text": [
            "100%|██████████| 113/113 [00:06<00:00, 17.49it/s]\n"
          ]
        },
        {
          "output_type": "stream",
          "name": "stdout",
          "text": [
            "<START> KING RICHARD III : Why , I am I am\n",
            "Train Epoch: 51, Loss: 4.9591, LR: 2.7300475013022666e-05\n"
          ]
        },
        {
          "output_type": "stream",
          "name": "stderr",
          "text": [
            "100%|██████████| 113/113 [00:06<00:00, 17.63it/s]\n"
          ]
        },
        {
          "output_type": "stream",
          "name": "stdout",
          "text": [
            "<START> KING RICHARD III : Why , I am I am\n",
            "Train Epoch: 52, Loss: 4.9517, LR: 2.556893792515225e-05\n"
          ]
        },
        {
          "output_type": "stream",
          "name": "stderr",
          "text": [
            "100%|██████████| 113/113 [00:06<00:00, 17.26it/s]\n"
          ]
        },
        {
          "output_type": "stream",
          "name": "stdout",
          "text": [
            "<START> KING RICHARD III : Why , I am I am\n",
            "Train Epoch: 53, Loss: 4.9446, LR: 2.3875071764202563e-05\n"
          ]
        },
        {
          "output_type": "stream",
          "name": "stderr",
          "text": [
            "100%|██████████| 113/113 [00:06<00:00, 17.58it/s]\n"
          ]
        },
        {
          "output_type": "stream",
          "name": "stdout",
          "text": [
            "<START> KING RICHARD III : Why , I am I am\n",
            "Train Epoch: 54, Loss: 4.9379, LR: 2.222148834901989e-05\n"
          ]
        },
        {
          "output_type": "stream",
          "name": "stderr",
          "text": [
            "100%|██████████| 113/113 [00:06<00:00, 17.35it/s]\n"
          ]
        },
        {
          "output_type": "stream",
          "name": "stdout",
          "text": [
            "<START> KING RICHARD III : Why , I am I am\n",
            "Train Epoch: 55, Loss: 4.9316, LR: 2.0610737385376352e-05\n"
          ]
        },
        {
          "output_type": "stream",
          "name": "stderr",
          "text": [
            "100%|██████████| 113/113 [00:06<00:00, 17.25it/s]\n"
          ]
        },
        {
          "output_type": "stream",
          "name": "stdout",
          "text": [
            "<START> KING RICHARD III : Why , I am I am\n",
            "Train Epoch: 56, Loss: 4.9258, LR: 1.9045302534508318e-05\n"
          ]
        },
        {
          "output_type": "stream",
          "name": "stderr",
          "text": [
            "100%|██████████| 113/113 [00:06<00:00, 17.42it/s]\n"
          ]
        },
        {
          "output_type": "stream",
          "name": "stdout",
          "text": [
            "<START> KING RICHARD III : Why , I am I am\n",
            "Train Epoch: 57, Loss: 4.9203, LR: 1.7527597583490826e-05\n"
          ]
        },
        {
          "output_type": "stream",
          "name": "stderr",
          "text": [
            "100%|██████████| 113/113 [00:06<00:00, 17.40it/s]\n"
          ]
        },
        {
          "output_type": "stream",
          "name": "stdout",
          "text": [
            "<START> KING RICHARD III : Why , I am I am\n",
            "Train Epoch: 58, Loss: 4.9153, LR: 1.6059962723352925e-05\n"
          ]
        },
        {
          "output_type": "stream",
          "name": "stderr",
          "text": [
            "100%|██████████| 113/113 [00:06<00:00, 17.54it/s]\n"
          ]
        },
        {
          "output_type": "stream",
          "name": "stdout",
          "text": [
            "<START> KING RICHARD III : Why , I am I am\n",
            "Train Epoch: 59, Loss: 4.9106, LR: 1.4644660940672629e-05\n"
          ]
        },
        {
          "output_type": "stream",
          "name": "stderr",
          "text": [
            "100%|██████████| 113/113 [00:06<00:00, 17.20it/s]\n"
          ]
        },
        {
          "output_type": "stream",
          "name": "stdout",
          "text": [
            "<START> KING RICHARD III : Why , I am I am\n",
            "Train Epoch: 60, Loss: 4.9062, LR: 1.3283874528215718e-05\n"
          ]
        },
        {
          "output_type": "stream",
          "name": "stderr",
          "text": [
            "100%|██████████| 113/113 [00:06<00:00, 17.61it/s]\n"
          ]
        },
        {
          "output_type": "stream",
          "name": "stdout",
          "text": [
            "<START> KING RICHARD III : Why , I am I am\n",
            "Train Epoch: 61, Loss: 4.9021, LR: 1.1979701719998453e-05\n"
          ]
        },
        {
          "output_type": "stream",
          "name": "stderr",
          "text": [
            "100%|██████████| 113/113 [00:06<00:00, 17.37it/s]\n"
          ]
        },
        {
          "output_type": "stream",
          "name": "stdout",
          "text": [
            "<START> KING RICHARD III : Why , I am I am\n",
            "Train Epoch: 62, Loss: 4.8983, LR: 1.0734153455962748e-05\n"
          ]
        },
        {
          "output_type": "stream",
          "name": "stderr",
          "text": [
            "100%|██████████| 113/113 [00:06<00:00, 17.47it/s]\n"
          ]
        },
        {
          "output_type": "stream",
          "name": "stdout",
          "text": [
            "<START> KING RICHARD III : Why , I am I am\n",
            "Train Epoch: 63, Loss: 4.8948, LR: 9.549150281252633e-06\n"
          ]
        },
        {
          "output_type": "stream",
          "name": "stderr",
          "text": [
            "100%|██████████| 113/113 [00:06<00:00, 17.46it/s]\n"
          ]
        },
        {
          "output_type": "stream",
          "name": "stdout",
          "text": [
            "<START> KING RICHARD III : I 'll not be a man\n",
            "Train Epoch: 64, Loss: 4.8915, LR: 8.426519384872749e-06\n"
          ]
        },
        {
          "output_type": "stream",
          "name": "stderr",
          "text": [
            "100%|██████████| 113/113 [00:06<00:00, 17.26it/s]\n"
          ]
        },
        {
          "output_type": "stream",
          "name": "stdout",
          "text": [
            "<START> KING RICHARD III : I 'll not be a man\n",
            "Train Epoch: 65, Loss: 4.8886, LR: 7.3679917822953905e-06\n"
          ]
        },
        {
          "output_type": "stream",
          "name": "stderr",
          "text": [
            "100%|██████████| 113/113 [00:06<00:00, 17.45it/s]\n"
          ]
        },
        {
          "output_type": "stream",
          "name": "stdout",
          "text": [
            "<START> KING RICHARD III : I 'll not be a man\n",
            "Train Epoch: 66, Loss: 4.8859, LR: 6.375199646360152e-06\n"
          ]
        },
        {
          "output_type": "stream",
          "name": "stderr",
          "text": [
            "100%|██████████| 113/113 [00:06<00:00, 17.28it/s]\n"
          ]
        },
        {
          "output_type": "stream",
          "name": "stdout",
          "text": [
            "<START> KING RICHARD III : I 'll not be a man\n",
            "Train Epoch: 67, Loss: 4.8835, LR: 5.44967379058161e-06\n"
          ]
        },
        {
          "output_type": "stream",
          "name": "stderr",
          "text": [
            "100%|██████████| 113/113 [00:06<00:00, 17.51it/s]\n"
          ]
        },
        {
          "output_type": "stream",
          "name": "stdout",
          "text": [
            "<START> KING RICHARD III : I 'll not be a man\n",
            "Train Epoch: 68, Loss: 4.8814, LR: 4.592841308745932e-06\n"
          ]
        },
        {
          "output_type": "stream",
          "name": "stderr",
          "text": [
            "100%|██████████| 113/113 [00:06<00:00, 17.33it/s]\n"
          ]
        },
        {
          "output_type": "stream",
          "name": "stdout",
          "text": [
            "<START> KING RICHARD III : I 'll not be a man\n",
            "Train Epoch: 69, Loss: 4.8795, LR: 3.806023374435663e-06\n"
          ]
        },
        {
          "output_type": "stream",
          "name": "stderr",
          "text": [
            "100%|██████████| 113/113 [00:06<00:00, 17.50it/s]\n"
          ]
        },
        {
          "output_type": "stream",
          "name": "stdout",
          "text": [
            "<START> KING RICHARD III : I 'll not be a man\n",
            "Train Epoch: 70, Loss: 4.8778, LR: 3.0904332038757918e-06\n"
          ]
        },
        {
          "output_type": "stream",
          "name": "stderr",
          "text": [
            "100%|██████████| 113/113 [00:06<00:00, 17.22it/s]\n"
          ]
        },
        {
          "output_type": "stream",
          "name": "stdout",
          "text": [
            "<START> KING RICHARD III : I 'll not be a man\n",
            "Train Epoch: 71, Loss: 4.8763, LR: 2.447174185242323e-06\n"
          ]
        },
        {
          "output_type": "stream",
          "name": "stderr",
          "text": [
            "100%|██████████| 113/113 [00:06<00:00, 17.37it/s]\n"
          ]
        },
        {
          "output_type": "stream",
          "name": "stdout",
          "text": [
            "<START> KING RICHARD III : I 'll not be a man\n",
            "Train Epoch: 72, Loss: 4.8750, LR: 1.8772381773176413e-06\n"
          ]
        },
        {
          "output_type": "stream",
          "name": "stderr",
          "text": [
            "100%|██████████| 113/113 [00:06<00:00, 17.33it/s]\n"
          ]
        },
        {
          "output_type": "stream",
          "name": "stdout",
          "text": [
            "<START> KING RICHARD III : I 'll not be a man\n",
            "Train Epoch: 73, Loss: 4.8738, LR: 1.381503980116172e-06\n"
          ]
        },
        {
          "output_type": "stream",
          "name": "stderr",
          "text": [
            "100%|██████████| 113/113 [00:06<00:00, 17.36it/s]\n"
          ]
        },
        {
          "output_type": "stream",
          "name": "stdout",
          "text": [
            "<START> KING RICHARD III : I 'll not be a man\n",
            "Train Epoch: 74, Loss: 4.8728, LR: 9.607359798384783e-07\n"
          ]
        },
        {
          "output_type": "stream",
          "name": "stderr",
          "text": [
            "100%|██████████| 113/113 [00:06<00:00, 17.48it/s]\n"
          ]
        },
        {
          "output_type": "stream",
          "name": "stdout",
          "text": [
            "<START> KING RICHARD III : I 'll not be a man\n",
            "Train Epoch: 75, Loss: 4.8721, LR: 6.155829702431169e-07\n"
          ]
        },
        {
          "output_type": "stream",
          "name": "stderr",
          "text": [
            "100%|██████████| 113/113 [00:06<00:00, 17.51it/s]\n"
          ]
        },
        {
          "output_type": "stream",
          "name": "stdout",
          "text": [
            "<START> KING RICHARD III : I 'll not be a man\n",
            "Train Epoch: 76, Loss: 4.8714, LR: 3.4657715225368527e-07\n"
          ]
        },
        {
          "output_type": "stream",
          "name": "stderr",
          "text": [
            "100%|██████████| 113/113 [00:06<00:00, 17.51it/s]\n"
          ]
        },
        {
          "output_type": "stream",
          "name": "stdout",
          "text": [
            "<START> KING RICHARD III : I 'll not be a man\n",
            "Train Epoch: 77, Loss: 4.8710, LR: 1.5413331334360177e-07\n"
          ]
        },
        {
          "output_type": "stream",
          "name": "stderr",
          "text": [
            "100%|██████████| 113/113 [00:06<00:00, 17.39it/s]\n"
          ]
        },
        {
          "output_type": "stream",
          "name": "stdout",
          "text": [
            "<START> KING RICHARD III : I 'll not be a man\n",
            "Train Epoch: 78, Loss: 4.8707, LR: 3.854818796385494e-08\n"
          ]
        },
        {
          "output_type": "stream",
          "name": "stderr",
          "text": [
            "100%|██████████| 113/113 [00:06<00:00, 17.63it/s]"
          ]
        },
        {
          "output_type": "stream",
          "name": "stdout",
          "text": [
            "<START> KING RICHARD III : I 'll not be a man\n",
            "Train Epoch: 79, Loss: 4.8706, LR: 0.0\n"
          ]
        },
        {
          "output_type": "stream",
          "name": "stderr",
          "text": [
            "\n"
          ]
        }
      ],
      "source": [
        "# Time estimate: around 30 minutes on T4 GPU\n",
        "# Training\n",
        "import tqdm\n",
        "for epoch in range(NUM_EPOCHS):  # loop over the dataset multiple times\n",
        "    loss_meter = AverageMeter()\n",
        "    for inp_dict in tqdm.tqdm(training_dl):\n",
        "        # get the inputs; data is a list of [inputs, labels]\n",
        "        inp_ids, inp_mask = inp_dict['input_ids'], inp_dict['input_mask']\n",
        "        inp_ids = inp_ids.cuda()\n",
        "        inp_mask = inp_mask.cuda()\n",
        "        # zero the parameter gradients\n",
        "        optimizer.zero_grad()\n",
        "\n",
        "        # forward + backward + optimize\n",
        "        outputs, _ = model(input_ids=inp_ids)\n",
        "        loss = criterion(outputs, inp_ids, inp_mask)\n",
        "        loss_meter.update(loss.item(), len(inp_dict['input_ids']))\n",
        "        loss.backward()\n",
        "        optimizer.step()\n",
        "    scheduler.step()\n",
        "\n",
        "        # print example\n",
        "    inp = tok.encode(\"\").unsqueeze(0).cuda()\n",
        "    print(tok.decode(model.generate(inp, 10)[0].cpu()))\n",
        "\n",
        "    print(f\"Train Epoch: {epoch}, Loss: {loss_meter.calculate():0.4f}, LR: {scheduler.get_last_lr()[0]}\")\n"
      ],
      "id": "63c72fb2"
    },
    {
      "cell_type": "markdown",
      "source": [
        "### 4.(f)\n",
        "\n",
        "As training progresses, the model's outputs become more coherent. Initially, the outputs are mostly punctuation or repeated phrases, indicating that the model hasn't learned meaningful structure. By the middle epochs, the model starts generating more sensible phrases, like \"KING : I 'll you,\" though with awkward repetition. Toward the end, the generations show more consistent sentence structure, although they still repeat the same phrase, suggesting the model is improving but still struggles with variety and complexity in dialogue.\n",
        "\n",
        "---"
      ],
      "metadata": {
        "id": "A-BDucLK70sC"
      },
      "id": "A-BDucLK70sC"
    },
    {
      "cell_type": "markdown",
      "metadata": {
        "id": "a66ac1b1"
      },
      "source": [
        "## Part 4.G"
      ],
      "id": "a66ac1b1"
    },
    {
      "cell_type": "code",
      "execution_count": null,
      "metadata": {
        "id": "2c5d1381",
        "colab": {
          "base_uri": "https://localhost:8080/"
        },
        "outputId": "8fd9ffe8-13a0-4136-a8cd-49e7dc892e43"
      },
      "outputs": [
        {
          "output_type": "stream",
          "name": "stdout",
          "text": [
            "<START> KING RICHARD III : I 'll not be a man . I have not the king . I 'll be a man , And my soul . I am a man , I have my father , I 'll be a king , I am I 'll not , I\n"
          ]
        }
      ],
      "source": [
        "inp = tok.encode(\"\").unsqueeze(0).cuda()\n",
        "print(tok.decode(model.generate(inp, 50)[0].cpu()))\n"
      ],
      "id": "2c5d1381"
    },
    {
      "cell_type": "markdown",
      "source": [
        "### 4.(g)\n",
        "\n",
        "The generated text from the model is:\n",
        "\n",
        "```\n",
        "<START> KING RICHARD III : What is the king , and the king , and the king , and the king , and the king , and the king , and the king , and the king , and the king , And I am the king , and the king\n",
        "```\n",
        "\n",
        "The model produces somewhat coherent language, but it heavily repeats the phrase \"and the king,\" indicating it hasn't fully learned the structure or diversity of natural dialogue, likely due to limited training.\n",
        "\n",
        "---"
      ],
      "metadata": {
        "id": "_rP92agm9xJt"
      },
      "id": "_rP92agm9xJt"
    },
    {
      "cell_type": "markdown",
      "source": [
        "### 4.(h)\n",
        "\n",
        "Nucleus sampling works by selecting tokens from a subset whose cumulative probability exceeds a threshold \\( p \\), introducing randomness into the selection process and allowing the model to explore more diverse sequences. Unlike greedy decoding, which always picks the most likely next token and can get stuck in repetitive loops, nucleus sampling helps the model escape from high-probability but repetitive outputs, encouraging more coherent, context-aware completions by sampling from a range of plausible tokens. This randomness can improve the model's ability to generate more natural, creative outputs, though it can slow down generation and may sometimes yield less predictable or slightly less accurate results.\n",
        "\n",
        "---"
      ],
      "metadata": {
        "id": "6BGHND6--v-7"
      },
      "id": "6BGHND6--v-7"
    },
    {
      "cell_type": "markdown",
      "source": [
        "### 4.(i)\n",
        "\n",
        "KV caching is useful in DialogueGPT because it allows the model to store previously computed key-value pairs (hidden states) from earlier tokens. Instead of recomputing attention for all tokens at every step, KV caching enables the model to only compute attention for the new token while reusing the cached key-value pairs for the past tokens. This significantly reduces the computational load for each new token, making the generation process much faster, especially for long sequences where recomputing attention over the entire sequence would otherwise be very expensive.\n",
        "\n",
        "---"
      ],
      "metadata": {
        "id": "1Q1zQfMDAu5o"
      },
      "id": "1Q1zQfMDAu5o"
    },
    {
      "cell_type": "code",
      "source": [],
      "metadata": {
        "id": "-401s9lBpzqe"
      },
      "id": "-401s9lBpzqe",
      "execution_count": null,
      "outputs": []
    }
  ],
  "metadata": {
    "accelerator": "GPU",
    "colab": {
      "provenance": [],
      "machine_shape": "hm",
      "gpuType": "A100"
    },
    "kernelspec": {
      "display_name": "Python 3",
      "name": "python3"
    },
    "language_info": {
      "codemirror_mode": {
        "name": "ipython",
        "version": 3
      },
      "file_extension": ".py",
      "mimetype": "text/x-python",
      "name": "python",
      "nbconvert_exporter": "python",
      "pygments_lexer": "ipython3",
      "version": "3.9.16"
    }
  },
  "nbformat": 4,
  "nbformat_minor": 5
}